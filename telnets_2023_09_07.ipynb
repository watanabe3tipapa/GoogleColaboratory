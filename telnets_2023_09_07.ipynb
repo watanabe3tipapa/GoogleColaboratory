{
  "nbformat": 4,
  "nbformat_minor": 0,
  "metadata": {
    "colab": {
      "provenance": [],
      "authorship_tag": "ABX9TyPSOwdfIISN/zfupXXhGUEX",
      "include_colab_link": true
    },
    "kernelspec": {
      "name": "python3",
      "display_name": "Python 3"
    },
    "language_info": {
      "name": "python"
    }
  },
  "cells": [
    {
      "cell_type": "markdown",
      "metadata": {
        "id": "view-in-github",
        "colab_type": "text"
      },
      "source": [
        "<a href=\"https://colab.research.google.com/github/watanabe3tipapa/GoogleColaboratory/blob/main/telnets_2023_09_07.ipynb\" target=\"_parent\"><img src=\"https://colab.research.google.com/assets/colab-badge.svg\" alt=\"Open In Colab\"/></a>"
      ]
    },
    {
      "cell_type": "markdown",
      "source": [
        "# インターネット公告システム ホームページ"
      ],
      "metadata": {
        "id": "UhBmmB1IJzJz"
      }
    },
    {
      "cell_type": "markdown",
      "source": [
        "一般社団法人サイバー技術・インターネット自由研究会"
      ],
      "metadata": {
        "id": "Blp_eouPJ1zx"
      }
    },
    {
      "cell_type": "markdown",
      "source": [
        "> Colab で開いてみます"
      ],
      "metadata": {
        "id": "OXiT1jfMKJA2"
      }
    },
    {
      "cell_type": "markdown",
      "source": [
        "### 準備"
      ],
      "metadata": {
        "id": "g_XZGrmOKLEm"
      }
    },
    {
      "cell_type": "markdown",
      "source": [
        "telnet"
      ],
      "metadata": {
        "id": "OIshw51rKUfY"
      }
    },
    {
      "cell_type": "code",
      "execution_count": 1,
      "metadata": {
        "id": "H1NwB8O4GAjR",
        "colab": {
          "base_uri": "https://localhost:8080/"
        },
        "outputId": "5e24c1a1-10ed-4eb1-d672-31e1b1e2dec9"
      },
      "outputs": [
        {
          "output_type": "stream",
          "name": "stdout",
          "text": [
            "Reading package lists... Done\n",
            "Building dependency tree... Done\n",
            "Reading state information... Done\n",
            "The following additional packages will be installed:\n",
            "  netbase\n",
            "The following NEW packages will be installed:\n",
            "  netbase telnet\n",
            "0 upgraded, 2 newly installed, 0 to remove and 16 not upgraded.\n",
            "Need to get 79.9 kB of archives.\n",
            "After this operation, 200 kB of additional disk space will be used.\n",
            "Get:1 http://archive.ubuntu.com/ubuntu jammy/main amd64 netbase all 6.3 [12.9 kB]\n",
            "Get:2 http://archive.ubuntu.com/ubuntu jammy/main amd64 telnet amd64 0.17-44build1 [66.9 kB]\n",
            "Fetched 79.9 kB in 0s (411 kB/s)\n",
            "Selecting previously unselected package netbase.\n",
            "(Reading database ... 120901 files and directories currently installed.)\n",
            "Preparing to unpack .../archives/netbase_6.3_all.deb ...\n",
            "Unpacking netbase (6.3) ...\n",
            "Selecting previously unselected package telnet.\n",
            "Preparing to unpack .../telnet_0.17-44build1_amd64.deb ...\n",
            "Unpacking telnet (0.17-44build1) ...\n",
            "Setting up netbase (6.3) ...\n",
            "Setting up telnet (0.17-44build1) ...\n",
            "update-alternatives: using /usr/bin/telnet.netkit to provide /usr/bin/telnet (telnet) in auto mode\n",
            "Processing triggers for man-db (2.10.2-1) ...\n"
          ]
        }
      ],
      "source": [
        "! apt install telnet"
      ]
    },
    {
      "cell_type": "markdown",
      "source": [
        "OpenSSL"
      ],
      "metadata": {
        "id": "h63bJI9kKXSQ"
      }
    },
    {
      "cell_type": "code",
      "source": [
        "! apt install openssl"
      ],
      "metadata": {
        "colab": {
          "base_uri": "https://localhost:8080/"
        },
        "id": "iEv_-cpEKY4l",
        "outputId": "b0a9363e-5703-46ad-8bea-568af725952c"
      },
      "execution_count": 2,
      "outputs": [
        {
          "output_type": "stream",
          "name": "stdout",
          "text": [
            "Reading package lists... Done\n",
            "Building dependency tree... Done\n",
            "Reading state information... Done\n",
            "openssl is already the newest version (3.0.2-0ubuntu1.10).\n",
            "openssl set to manually installed.\n",
            "0 upgraded, 0 newly installed, 0 to remove and 16 not upgraded.\n"
          ]
        }
      ]
    },
    {
      "cell_type": "markdown",
      "source": [
        "> 一応ログをとっておきます"
      ],
      "metadata": {
        "id": "h90f-B6iKq0K"
      }
    },
    {
      "cell_type": "code",
      "source": [
        "import os\n",
        "_logconfpath = './log.conf'\n",
        "\n",
        "logconfig = \"\"\"\n",
        "[loggers]\n",
        "keys=root\n",
        "\n",
        "[handlers]\n",
        "keys=rotatinghandler, timedrotatinghandler\n",
        "\n",
        "[formatters]\n",
        "keys=_formatter\n",
        "\n",
        "[logger_root]\n",
        "level=DEBUG\n",
        "handlers=rotatinghandler, timedrotatinghandler\n",
        "\n",
        "[handler_rotatinghandler]\n",
        "class=handlers.RotatingFileHandler\n",
        "level=DEBUG\n",
        "formatter=_formatter\n",
        "args=('./app.log', 'a', 1024*1024, 5, 'utf-8')\n",
        "\n",
        "[handler_timedrotatinghandler]\n",
        "class=handlers.TimedRotatingFileHandler\n",
        "level=ERROR\n",
        "formatter=_formatter\n",
        "args=('./rotation.log', 'S', 1024*1024, 5, 'utf-8')\n",
        "\n",
        "\n",
        "[formatter__formatter]\n",
        "format=[%(process)d-%(thread)d]-%(asctime)s-[%(filename)s:%(lineno)d]-%(levelname)s-%(message)s\n",
        "\"\"\"\n",
        "\n",
        "f = open(_logconfpath, 'w')\n",
        "f.write(logconfig)\n",
        "f.close()"
      ],
      "metadata": {
        "id": "PvLIHE6DKyQM"
      },
      "execution_count": 3,
      "outputs": []
    },
    {
      "cell_type": "markdown",
      "source": [
        "> ログを初期化しておきます"
      ],
      "metadata": {
        "id": "H4tVGiH8K0bx"
      }
    },
    {
      "cell_type": "code",
      "source": [
        "import logging.config\n",
        "logging.config.fileConfig(fname=_logconfpath)\n",
        "_logger = logging.getLogger(__name__)"
      ],
      "metadata": {
        "id": "eEfP431ZK4R2"
      },
      "execution_count": 4,
      "outputs": []
    },
    {
      "cell_type": "markdown",
      "source": [
        "### 実行"
      ],
      "metadata": {
        "id": "F3bAVWrKK-th"
      }
    },
    {
      "cell_type": "markdown",
      "source": [
        " > コンソールの中で\"notalk\"と入力するとチャット機能から離脱できます"
      ],
      "metadata": {
        "id": "2roXuVFcLY8A"
      }
    },
    {
      "cell_type": "code",
      "source": [
        "! openssl s_client -connect koukoku.shadan.open.ad.jp:992"
      ],
      "metadata": {
        "colab": {
          "base_uri": "https://localhost:8080/"
        },
        "id": "X6ciuaAyLZ8V",
        "outputId": "57a1d97f-41c1-45c4-adb6-666f15380d39"
      },
      "execution_count": 5,
      "outputs": [
        {
          "output_type": "stream",
          "name": "stdout",
          "text": [
            "CONNECTED(00000003)\n",
            "depth=2 C = US, O = Internet Security Research Group, CN = ISRG Root X1\n",
            "verify return:1\n",
            "depth=1 C = US, O = Let's Encrypt, CN = R3\n",
            "verify return:1\n",
            "depth=0 CN = koukoku.shadan.open.ad.jp\n",
            "verify return:1\n",
            "---\n",
            "Certificate chain\n",
            " 0 s:CN = koukoku.shadan.open.ad.jp\n",
            "   i:C = US, O = Let's Encrypt, CN = R3\n",
            "   a:PKEY: rsaEncryption, 2048 (bit); sigalg: RSA-SHA256\n",
            "   v:NotBefore: Sep  6 02:11:41 2023 GMT; NotAfter: Dec  5 02:11:40 2023 GMT\n",
            " 1 s:C = US, O = Let's Encrypt, CN = R3\n",
            "   i:C = US, O = Internet Security Research Group, CN = ISRG Root X1\n",
            "   a:PKEY: rsaEncryption, 2048 (bit); sigalg: RSA-SHA256\n",
            "   v:NotBefore: Sep  4 00:00:00 2020 GMT; NotAfter: Sep 15 16:00:00 2025 GMT\n",
            "---\n",
            "Server certificate\n",
            "-----BEGIN CERTIFICATE-----\n",
            "MIIFHTCCBAWgAwIBAgISAzUhRkrknor3ol5B44s9aQ16MA0GCSqGSIb3DQEBCwUA\n",
            "MDIxCzAJBgNVBAYTAlVTMRYwFAYDVQQKEw1MZXQncyBFbmNyeXB0MQswCQYDVQQD\n",
            "EwJSMzAeFw0yMzA5MDYwMjExNDFaFw0yMzEyMDUwMjExNDBaMCQxIjAgBgNVBAMT\n",
            "GWtvdWtva3Uuc2hhZGFuLm9wZW4uYWQuanAwggEiMA0GCSqGSIb3DQEBAQUAA4IB\n",
            "DwAwggEKAoIBAQC6kfQYdhh1dc27kFvnGs9QVzoDQwHWssdULYdmQ9EpTVa8USjp\n",
            "SqJr9er2cUTsY1mXnMea860YCpSy6OIg49iR8GLdKGQDJdL63UwFUxhf6Dao8lzg\n",
            "oIL0XO4ixXFnzhb9jQAS9Imz24Qb/TpQnXlQXDnQazkchuV0BmpRdaqi53ZGa/Oh\n",
            "M+0/Rq+CxmEI5MkkWlbjRls6AttewA6IaW1sJEz033Ni0wHWrPmofeUxp970aaP6\n",
            "UPY7GrlpQjC8FgwEou4fRK6n3SHnPhOwnVSvo/V/QQuJpnkqeTM35DjVl1QHWYSg\n",
            "L6CeOyHtbaXqxL6FxKTB6nWHaUxM5414qsglAgMBAAGjggI5MIICNTAOBgNVHQ8B\n",
            "Af8EBAMCBaAwHQYDVR0lBBYwFAYIKwYBBQUHAwEGCCsGAQUFBwMCMAwGA1UdEwEB\n",
            "/wQCMAAwHQYDVR0OBBYEFK/eBpftmzk/tkvHJdRvpeIXNZZwMB8GA1UdIwQYMBaA\n",
            "FBQusxe3WFbLrlAJQOYfr52LFMLGMFUGCCsGAQUFBwEBBEkwRzAhBggrBgEFBQcw\n",
            "AYYVaHR0cDovL3IzLm8ubGVuY3Iub3JnMCIGCCsGAQUFBzAChhZodHRwOi8vcjMu\n",
            "aS5sZW5jci5vcmcvMEEGA1UdEQQ6MDiCGyoua291a29rdS5zaGFkYW4ub3Blbi5h\n",
            "ZC5qcIIZa291a29rdS5zaGFkYW4ub3Blbi5hZC5qcDATBgNVHSAEDDAKMAgGBmeB\n",
            "DAECATCCAQUGCisGAQQB1nkCBAIEgfYEgfMA8QB3AHoyjFTYty22IOo44FIe6YQW\n",
            "cDIThU070ivBOlejUutSAAABimh5ZxkAAAQDAEgwRgIhALPI+efjp5aKiay9DXUA\n",
            "B4DK24AsWLa999PCSRJsQ5JJAiEA0p04mRvumhgc0OzbWO/A9NvAOCKQC7GKFh+D\n",
            "EReIa4wAdgC3Pvsk35xNunXyOcW6WPRsXfxCz3qfNcSeHQmBJe20mQAAAYpoeWcO\n",
            "AAAEAwBHMEUCIG/SBFRWFdfdL0Pzsjs318vQqkoyDvysovPOIApVdo+VAiEAnZC9\n",
            "b3RxLwAwV0nktaS+4U3JFqUon4Z8Yu7ynHbDuRIwDQYJKoZIhvcNAQELBQADggEB\n",
            "AC07jNIDCrAfMn/ZqNF3/Q25KzuV2711R6fA4OkVXiWzj0ojsQwOnasWJyL1FME3\n",
            "/g3ELVfvxYTEZDF2xkKeak1xekpku5eJRpj/XSSYFOPVwDvyYBeDF09zu8KM26fB\n",
            "Ss/LTNLhE7B2+4Vzv+Fn+fsI8SZaG8h5X+fqrNBCEbu89YeMI3Hln9QznZjqaQHp\n",
            "xelUstypQ/ELHQt9P6Os0qc8cLdSeWJq9zj/Qqtc8ie0c1c0Ndb7+HYnQAxxCI24\n",
            "Qq9lIylpmBnIuHY0YhmnDKUxb9RQ8Zqpfn8SLJjp6aQtnZMMjXwulvQBgmY/00OD\n",
            "4HSlPFLtIwhtEElYrjLNURo=\n",
            "-----END CERTIFICATE-----\n",
            "subject=CN = koukoku.shadan.open.ad.jp\n",
            "issuer=C = US, O = Let's Encrypt, CN = R3\n",
            "---\n",
            "No client certificate CA names sent\n",
            "Peer signing digest: SHA256\n",
            "Peer signature type: RSA-PSS\n",
            "Server Temp Key: X25519, 253 bits\n",
            "---\n",
            "SSL handshake has read 3164 bytes and written 391 bytes\n",
            "Verification: OK\n",
            "---\n",
            "New, TLSv1.3, Cipher is TLS_AES_128_GCM_SHA256\n",
            "Server public key is 2048 bit\n",
            "Secure Renegotiation IS NOT supported\n",
            "Compression: NONE\n",
            "Expansion: NONE\n",
            "No ALPN negotiated\n",
            "Early data was not sent\n",
            "Verify return code: 0 (ok)\n",
            "---\n",
            "---\n",
            "Post-Handshake New Session Ticket arrived:\n",
            "SSL-Session:\n",
            "    Protocol  : TLSv1.3\n",
            "    Cipher    : TLS_AES_128_GCM_SHA256\n",
            "    Session-ID: 3D8CFBF11DFC0ED318ECC354F0F589E7FC853D7EAA267EE31105ADC48A0C0A6F\n",
            "    Session-ID-ctx: \n",
            "    Resumption PSK: 544C44410DD8770047BF210B43635B50E66631963208952EDA6A6E31767B7658\n",
            "    PSK identity: None\n",
            "    PSK identity hint: None\n",
            "    SRP username: None\n",
            "    TLS session ticket lifetime hint: 7200 (seconds)\n",
            "    TLS session ticket:\n",
            "    0000 - c2 10 80 1c 92 67 b3 3a-2e 29 8a 88 d3 25 5b e9   .....g.:.)...%[.\n",
            "    0010 - 6d 6e eb b3 16 2a 10 8b-42 53 0c c0 6b b7 61 e6   mn...*..BS..k.a.\n",
            "    0020 - bd 65 18 92 08 bc ef 09-b3 7b 33 be 5d 04 d5 25   .e.......{3.]..%\n",
            "    0030 - 1d 3f 8a 26 d4 3f 63 02-79 84 d6 c9 78 e3 00 1f   .?.&.?c.y...x...\n",
            "    0040 - 4a 1b c1 20 b7 64 c2 d2-69 ab bf 64 7d 3a 4f 49   J.. .d..i..d}:OI\n",
            "    0050 - 9b 06 a8 00 b5 95 26 f1-77 68 6d 65 c3 83 1d 08   ......&.whme....\n",
            "    0060 - 98 23 2b 28 cd 5c c0 fd-03 cb 3f a9 be 01 7d 6b   .#+(.\\....?...}k\n",
            "    0070 - dd 29 48 f5 80 8b d9 65-9a b4 bb a2 c3 7a a8 a0   .)H....e.....z..\n",
            "    0080 - 0c 41 f3 92 1b 4a a4 ea-39 7e 70 46 2c f5 6b eb   .A...J..9~pF,.k.\n",
            "    0090 - 9b 56 ae ad 7c 56 47 d1-bf c3 8c ce 92 39 37 22   .V..|VG......97\"\n",
            "    00a0 - 17 ea 01 fb bb ae e9 56-b4 c9 d6 10 d7 48 05 51   .......V.....H.Q\n",
            "\n",
            "    Start Time: 1694049107\n",
            "    Timeout   : 7200 (sec)\n",
            "    Verify return code: 0 (ok)\n",
            "    Extended master secret: no\n",
            "    Max Early Data: 0\n",
            "---\n",
            "read R BLOCK\n",
            "---\n",
            "Post-Handshake New Session Ticket arrived:\n",
            "SSL-Session:\n",
            "    Protocol  : TLSv1.3\n",
            "    Cipher    : TLS_AES_128_GCM_SHA256\n",
            "    Session-ID: 4C433A354B8805B8920E8762E168146D7D289189AE7B9BB53935D0EBAE702B27\n",
            "    Session-ID-ctx: \n",
            "    Resumption PSK: 554BD562CE1CAAEB86942DCEE07E1178F8622A0ED074FA3508A23387C45F7A93\n",
            "    PSK identity: None\n",
            "    PSK identity hint: None\n",
            "    SRP username: None\n",
            "    TLS session ticket lifetime hint: 7200 (seconds)\n",
            "    TLS session ticket:\n",
            "    0000 - c2 10 80 1c 92 67 b3 3a-2e 29 8a 88 d3 25 5b e9   .....g.:.)...%[.\n",
            "    0010 - e0 6e 84 81 fe a7 60 88-29 3b 3b ca 51 75 90 16   .n....`.);;.Qu..\n",
            "    0020 - a1 cc b5 42 e8 af e5 19-92 cc a3 73 51 43 0e d4   ...B.......sQC..\n",
            "    0030 - 2d 80 0b e0 df 94 fd 6b-e7 04 e5 37 96 02 f8 5e   -......k...7...^\n",
            "    0040 - 82 7e 71 08 fd 5d be 34-1a d9 af 43 db a2 3e 31   .~q..].4...C..>1\n",
            "    0050 - b0 0d 46 5d b5 93 26 8e-36 d4 3e c1 02 9b 20 7c   ..F]..&.6.>... |\n",
            "    0060 - ee 98 35 6e b5 0b 3e 2f-bb 8e 25 0e 8f a2 90 2c   ..5n..>/..%....,\n",
            "    0070 - c2 2a 7e fd 29 8b 1d d2-21 60 56 1b 67 7b 1b b3   .*~.)...!`V.g{..\n",
            "    0080 - 80 4b 7c e9 bc c0 39 0f-57 ff e8 80 ac 18 f3 cb   .K|...9.W.......\n",
            "    0090 - 85 bc e6 51 ed 46 8e 53-bf bc 40 7b fe 77 f0 ec   ...Q.F.S..@{.w..\n",
            "    00a0 - 3e 55 51 4b 7e 95 82 21-2e 4c 3f 4e ee 88 e5 61   >UQK~..!.L?N...a\n",
            "\n",
            "    Start Time: 1694049107\n",
            "    Timeout   : 7200 (sec)\n",
            "    Verify return code: 0 (ok)\n",
            "    Extended master secret: no\n",
            "    Max Early Data: 0\n",
            "---\n",
            "read R BLOCK\n",
            "﻿\u001b[0m\n",
            " ■□■□■□■□■□■□■□■□■□■□■□■□■□■□■□\n",
            " ■□ You must use UTF-8 Encoding to view this page      ■□\n",
            " ■□                                                    ■□\n",
            " ■□ 一般社団法人サイバー技術・インターネット自由研究会 ■□\n",
            " ■□                                                    ■□\n",
            "\n",
            "\u001b[0m\u001b[1m\u001b[31m>> 「 テスト 」(チャット放話 - 09/07 (木) 10:11:58 by ******* 君) <<\n",
            "\u001b[0m\u0007\n",
            " ■□ インターネット公告システム ホームページへようこそ！■□\n",
            " ■□               W e l c o m e ! !                    ■□\n",
            "\n",
            " \n",
            "          最終更新日時 2023/09/07 (木) 07:44 (JST)\n",
            " \n",
            "          - TELNET over TLS/SSL (TCP Port 992) secure edition -\n",
            " \n",
            "          あなたは １１６７５１ 番目のアクセス人間です！！\n",
            "          Your ^C\n"
          ]
        }
      ]
    },
    {
      "cell_type": "markdown",
      "source": [
        "> 通信障害などがあったときは各ログ・ファイル（例:app.log）を確認します。（任意）"
      ],
      "metadata": {
        "id": "lRbgHSY1Lkpq"
      }
    },
    {
      "cell_type": "code",
      "source": [
        "import logging\n",
        "logging.basicConfig(\n",
        "    filename=\"app.log\",\n",
        "    level=logging.DEBUG,\n",
        "    force=True)"
      ],
      "metadata": {
        "id": "2oci9cgWLv0x"
      },
      "execution_count": 6,
      "outputs": []
    },
    {
      "cell_type": "markdown",
      "source": [
        "^C"
      ],
      "metadata": {
        "id": "BhNbMWRWMNJG"
      }
    },
    {
      "cell_type": "markdown",
      "source": [
        "---"
      ],
      "metadata": {
        "id": "dSzYsz2OMQpy"
      }
    },
    {
      "cell_type": "markdown",
      "source": [],
      "metadata": {
        "id": "yKOZ5fVVKcs2"
      }
    }
  ]
}

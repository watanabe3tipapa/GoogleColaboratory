{
  "nbformat": 4,
  "nbformat_minor": 0,
  "metadata": {
    "colab": {
      "name": "method4colab-ssh.ipynb",
      "provenance": [],
      "collapsed_sections": [],
      "include_colab_link": true
    },
    "kernelspec": {
      "name": "python3",
      "display_name": "Python 3"
    },
    "accelerator": "GPU"
  },
  "cells": [
    {
      "cell_type": "markdown",
      "metadata": {
        "id": "view-in-github",
        "colab_type": "text"
      },
      "source": [
        "<a href=\"https://colab.research.google.com/github/watanabe3tipapa/GoogleColaboratory/blob/main/method4colab_ssh.ipynb\" target=\"_parent\"><img src=\"https://colab.research.google.com/assets/colab-badge.svg\" alt=\"Open In Colab\"/></a>"
      ]
    },
    {
      "cell_type": "markdown",
      "source": [
        "# Google ColaboratoryにSSH接続する方法（ngrok）"
      ],
      "metadata": {
        "id": "sQQ4y8_pxLHE"
      }
    },
    {
      "cell_type": "markdown",
      "source": [
        "### 【前提】　ngrokのアカウントを作成し、auth_tokenを準備してあること"
      ],
      "metadata": {
        "id": "AYk73zNhsWgw"
      }
    },
    {
      "cell_type": "markdown",
      "source": [
        "### 以下の手順でセットアップしていきます。"
      ],
      "metadata": {
        "id": "HJ0qw_PNxaf0"
      }
    },
    {
      "cell_type": "markdown",
      "source": [
        "組み込むものはお好みで（以下はサンプル）"
      ],
      "metadata": {
        "id": "EV3XnLMpuKZE"
      }
    },
    {
      "cell_type": "code",
      "metadata": {
        "id": "6qBRSjqL-cgL"
      },
      "source": [
        "import random, string, urllib.request, json, getpass, time"
      ],
      "execution_count": null,
      "outputs": []
    },
    {
      "cell_type": "markdown",
      "source": [
        ""
      ],
      "metadata": {
        "id": "XhUuzZVaxfzM"
      }
    },
    {
      "cell_type": "markdown",
      "source": [
        ">ngrokのauth_tokenをあらかじめ登録しておきます。"
      ],
      "metadata": {
        "id": "pT1K490HxnRk"
      }
    },
    {
      "cell_type": "code",
      "metadata": {
        "id": "XFv7Q_VzE9ur"
      },
      "source": [
        "auth_token=\"xxxxxxxxxxxxxxxxxxxxxxxxxxxxxxxxxxx\""
      ],
      "execution_count": null,
      "outputs": []
    },
    {
      "cell_type": "code",
      "metadata": {
        "id": "XO2FXBnm-i7I"
      },
      "source": [
        "#Generate root password\n",
        "password = ''.join(random.choice(string.ascii_letters + string.digits) for i in range(20))"
      ],
      "execution_count": null,
      "outputs": []
    },
    {
      "cell_type": "code",
      "metadata": {
        "id": "c8W42D-t-kub"
      },
      "source": [
        "#Download ngrok\n",
        "! wget -q -c -nc https://bin.equinox.io/c/4VmDzA7iaHb/ngrok-stable-linux-amd64.zip\n",
        "! unzip -qq -n ngrok-stable-linux-amd64.zip"
      ],
      "execution_count": null,
      "outputs": []
    },
    {
      "cell_type": "code",
      "metadata": {
        "id": "eq5gVcaA-puN",
        "outputId": "0d0d8c7c-33eb-478e-c3ea-94dd3d4e69fb",
        "colab": {
          "base_uri": "https://localhost:8080/"
        }
      },
      "source": [
        "#Setup sshd\n",
        "! apt-get install -qq -o=Dpkg::Use-Pty=0 openssh-server pwgen > /dev/null"
      ],
      "execution_count": null,
      "outputs": [
        {
          "output_type": "stream",
          "name": "stdout",
          "text": [
            "\n",
            "Creating config file /etc/ssh/sshd_config with new version\n",
            "Creating SSH2 RSA key; this may take some time ...\n",
            "2048 SHA256:Pt+FR5uEmWBtStBRnp8O22hy6duF+nAHsNB38+m7X0E root@4ea8a4d2a0a8 (RSA)\n",
            "Creating SSH2 ECDSA key; this may take some time ...\n",
            "256 SHA256:InYyJSIyzD3oKbVUaFsoTjwHBGSJ7joB08ez4SGV6lg root@4ea8a4d2a0a8 (ECDSA)\n",
            "Creating SSH2 ED25519 key; this may take some time ...\n",
            "256 SHA256:yE4VGfmLCmIhejMX18mDn5ChzpJcOArnV3QcqQh2UQk root@4ea8a4d2a0a8 (ED25519)\n",
            "Created symlink /etc/systemd/system/sshd.service → /lib/systemd/system/ssh.service.\n",
            "Created symlink /etc/systemd/system/multi-user.target.wants/ssh.service → /lib/systemd/system/ssh.service.\n",
            "invoke-rc.d: could not determine current runlevel\n",
            "invoke-rc.d: policy-rc.d denied execution of start.\n"
          ]
        }
      ]
    },
    {
      "cell_type": "code",
      "metadata": {
        "id": "_0V1Fo0t-wx9"
      },
      "source": [
        "#Set root password\n",
        "! echo root:$password | chpasswd\n",
        "! mkdir -p /var/run/sshd\n",
        "! echo \"PermitRootLogin yes\" >> /etc/ssh/sshd_config\n",
        "! echo \"PasswordAuthentication yes\" >> /etc/ssh/sshd_config\n",
        "! echo \"LD_LIBRARY_PATH=/usr/lib64-nvidia\" >> /root/.bashrc\n",
        "! echo \"export LD_LIBRARY_PATH\" >> /root/.bashrc"
      ],
      "execution_count": null,
      "outputs": []
    },
    {
      "cell_type": "code",
      "metadata": {
        "id": "uCXRIY8i-4zs"
      },
      "source": [
        "#Run sshd\n",
        "get_ipython().system_raw('/usr/sbin/sshd -D &')\n",
        "time.sleep(5)"
      ],
      "execution_count": null,
      "outputs": []
    },
    {
      "cell_type": "code",
      "metadata": {
        "id": "6Jx2q4H4_CnI"
      },
      "source": [
        "#Create tunnel\n",
        "get_ipython().system_raw(f\"./ngrok authtoken {auth_token} && ./ngrok tcp 22 &\")\n",
        "time.sleep(5)"
      ],
      "execution_count": null,
      "outputs": []
    },
    {
      "cell_type": "code",
      "metadata": {
        "id": "Q7wCLTIaENd3",
        "colab": {
          "base_uri": "https://localhost:8080/"
        },
        "outputId": "5e407c72-3cdc-464a-942c-87e0c4eefc0f"
      },
      "source": [
        "!ps -aux"
      ],
      "execution_count": null,
      "outputs": [
        {
          "output_type": "stream",
          "name": "stdout",
          "text": [
            "USER         PID %CPU %MEM    VSZ   RSS TTY      STAT START   TIME COMMAND\n",
            "root           1  0.2  0.0    992     4 ?        Ss   11:22   0:00 /sbin/docker-\n",
            "root           8  0.3  0.3 339816 50360 ?        Sl   11:22   0:00 /tools/node/b\n",
            "root          18  0.2  0.0  35888  4872 ?        Ss   11:22   0:00 tail -n +0 -F\n",
            "root          29  3.0  0.0      0     0 ?        Z    11:22   0:06 [python3] <de\n",
            "root          30  0.2  0.3 160408 41136 ?        S    11:22   0:00 python3 /usr/\n",
            "root          55  0.8  0.4 203824 60476 ?        Sl   11:22   0:01 /usr/bin/pyth\n",
            "root          56  0.0  0.0 707652  9112 ?        Sl   11:22   0:00 /usr/local/bi\n",
            "root          73  7.5  0.7 469704 93492 ?        Ssl  11:25   0:02 /usr/bin/pyth\n",
            "root          93  0.4  0.1 128152 15536 ?        Sl   11:25   0:00 /usr/bin/pyth\n",
            "root         110 16.6  1.0 518612 141524 ?       Sl   11:25   0:04 node /datalab\n",
            "root         707  0.0  0.0  95528  8812 ?        S    11:25   0:00 /usr/sbin/ssh\n",
            "root         711  0.0  0.0  39196  2908 ?        S    11:25   0:00 /bin/bash -c \n",
            "root         720  4.8  0.1 726652 25128 ?        Sl   11:25   0:00 ./ngrok tcp 2\n",
            "root         728  0.0  0.0  59036  6408 ?        R    11:26   0:00 ps -aux\n"
          ]
        }
      ]
    },
    {
      "cell_type": "code",
      "metadata": {
        "id": "1OVzHUHp_Iml",
        "colab": {
          "base_uri": "https://localhost:8080/"
        },
        "outputId": "5a473bf4-9439-467a-d70e-8663b71b64c7"
      },
      "source": [
        "#Get public address and print connect command\n",
        "with urllib.request.urlopen('http://localhost:4040/api/tunnels') as response:\n",
        "  data = json.loads(response.read().decode())\n",
        "  (host, port) = data['tunnels'][0]['public_url'][6:].split(':')\n",
        "  print(f'SSH command: ssh -p{port} root@{host}')\n",
        "\n",
        "#Print root password\n",
        "print(f'Root password: {password}')"
      ],
      "execution_count": null,
      "outputs": [
        {
          "output_type": "stream",
          "name": "stdout",
          "text": [
            "SSH command: ssh -p19516 root@6.tcp.ngrok.io\n",
            "Root password: zpB2wixlG9cNtB9WJMZd\n"
          ]
        }
      ]
    },
    {
      "cell_type": "markdown",
      "source": [
        "**上記の\"出力結果\"をコマンドラインに入力しSSH接続します**"
      ],
      "metadata": {
        "id": "TUis5eeoyTWe"
      }
    },
    {
      "cell_type": "markdown",
      "source": [
        "\n",
        "\n",
        "---\n",
        "\n"
      ],
      "metadata": {
        "id": "yXS7wkb8yLnw"
      }
    },
    {
      "cell_type": "markdown",
      "source": [
        ""
      ],
      "metadata": {
        "id": "qOn3A3tkySyj"
      }
    }
  ]
}
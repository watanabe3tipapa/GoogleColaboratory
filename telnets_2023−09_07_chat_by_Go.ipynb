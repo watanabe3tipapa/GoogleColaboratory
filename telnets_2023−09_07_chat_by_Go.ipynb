{
  "nbformat": 4,
  "nbformat_minor": 0,
  "metadata": {
    "colab": {
      "provenance": [],
      "authorship_tag": "ABX9TyMgTuwAMBoQWVnU9wx610Rd",
      "include_colab_link": true
    },
    "kernelspec": {
      "name": "python3",
      "display_name": "Python 3"
    },
    "language_info": {
      "name": "python"
    }
  },
  "cells": [
    {
      "cell_type": "markdown",
      "metadata": {
        "id": "view-in-github",
        "colab_type": "text"
      },
      "source": [
        "<a href=\"https://colab.research.google.com/github/watanabe3tipapa/GoogleColaboratory/blob/main/telnets_2023%E2%88%9209_07_chat_by_Go.ipynb\" target=\"_parent\"><img src=\"https://colab.research.google.com/assets/colab-badge.svg\" alt=\"Open In Colab\"/></a>"
      ]
    },
    {
      "cell_type": "markdown",
      "source": [
        "# インターネット公告システム ホームページ"
      ],
      "metadata": {
        "id": "6r4rEJbvXgIn"
      }
    },
    {
      "cell_type": "markdown",
      "source": [
        "一般社団法人サイバー技術・インターネット自由研究会"
      ],
      "metadata": {
        "id": "OV6RcY6JaVme"
      }
    },
    {
      "cell_type": "markdown",
      "source": [
        "> Chat機能用のクライアントです"
      ],
      "metadata": {
        "id": "YY8Lugrsab07"
      }
    },
    {
      "cell_type": "markdown",
      "source": [
        "### 準備"
      ],
      "metadata": {
        "id": "kO0NhixbXomu"
      }
    },
    {
      "cell_type": "markdown",
      "source": [
        "Goを実装します"
      ],
      "metadata": {
        "id": "O0odeoRrXm07"
      }
    },
    {
      "cell_type": "code",
      "execution_count": 1,
      "metadata": {
        "colab": {
          "base_uri": "https://localhost:8080/"
        },
        "id": "fQyFkBXaXRe2",
        "outputId": "1c038ff8-2130-451e-91f1-c8907c89a273"
      },
      "outputs": [
        {
          "output_type": "stream",
          "name": "stdout",
          "text": [
            "Reading package lists... Done\n",
            "Building dependency tree... Done\n",
            "Reading state information... Done\n",
            "The following additional packages will be installed:\n",
            "  golang-1.18 golang-1.18-doc golang-1.18-go golang-1.18-src golang-doc\n",
            "  golang-go golang-src\n",
            "Suggested packages:\n",
            "  bzr | brz mercurial subversion\n",
            "The following NEW packages will be installed:\n",
            "  golang golang-1.18 golang-1.18-doc golang-1.18-go golang-1.18-src golang-doc\n",
            "  golang-go golang-src\n",
            "0 upgraded, 8 newly installed, 0 to remove and 16 not upgraded.\n",
            "Need to get 82.5 MB of archives.\n",
            "After this operation, 437 MB of additional disk space will be used.\n",
            "Get:1 http://archive.ubuntu.com/ubuntu jammy-updates/main amd64 golang-1.18-doc all 1.18.1-1ubuntu1.1 [103 kB]\n",
            "Get:2 http://archive.ubuntu.com/ubuntu jammy-updates/main amd64 golang-1.18-src all 1.18.1-1ubuntu1.1 [16.2 MB]\n",
            "Get:3 http://archive.ubuntu.com/ubuntu jammy-updates/main amd64 golang-1.18-go amd64 1.18.1-1ubuntu1.1 [66.0 MB]\n",
            "Get:4 http://archive.ubuntu.com/ubuntu jammy-updates/main amd64 golang-1.18 all 1.18.1-1ubuntu1.1 [11.2 kB]\n",
            "Get:5 http://archive.ubuntu.com/ubuntu jammy/main amd64 golang-src all 2:1.18~0ubuntu2 [4,438 B]\n",
            "Get:6 http://archive.ubuntu.com/ubuntu jammy/main amd64 golang-go amd64 2:1.18~0ubuntu2 [41.8 kB]\n",
            "Get:7 http://archive.ubuntu.com/ubuntu jammy/main amd64 golang-doc all 2:1.18~0ubuntu2 [2,784 B]\n",
            "Get:8 http://archive.ubuntu.com/ubuntu jammy/main amd64 golang amd64 2:1.18~0ubuntu2 [2,732 B]\n",
            "Fetched 82.5 MB in 1s (56.8 MB/s)\n",
            "Selecting previously unselected package golang-1.18-doc.\n",
            "(Reading database ... 120901 files and directories currently installed.)\n",
            "Preparing to unpack .../0-golang-1.18-doc_1.18.1-1ubuntu1.1_all.deb ...\n",
            "Unpacking golang-1.18-doc (1.18.1-1ubuntu1.1) ...\n",
            "Selecting previously unselected package golang-1.18-src.\n",
            "Preparing to unpack .../1-golang-1.18-src_1.18.1-1ubuntu1.1_all.deb ...\n",
            "Unpacking golang-1.18-src (1.18.1-1ubuntu1.1) ...\n",
            "Selecting previously unselected package golang-1.18-go.\n",
            "Preparing to unpack .../2-golang-1.18-go_1.18.1-1ubuntu1.1_amd64.deb ...\n",
            "Unpacking golang-1.18-go (1.18.1-1ubuntu1.1) ...\n",
            "Selecting previously unselected package golang-1.18.\n",
            "Preparing to unpack .../3-golang-1.18_1.18.1-1ubuntu1.1_all.deb ...\n",
            "Unpacking golang-1.18 (1.18.1-1ubuntu1.1) ...\n",
            "Selecting previously unselected package golang-src.\n",
            "Preparing to unpack .../4-golang-src_2%3a1.18~0ubuntu2_all.deb ...\n",
            "Unpacking golang-src (2:1.18~0ubuntu2) ...\n",
            "Selecting previously unselected package golang-go:amd64.\n",
            "Preparing to unpack .../5-golang-go_2%3a1.18~0ubuntu2_amd64.deb ...\n",
            "Unpacking golang-go:amd64 (2:1.18~0ubuntu2) ...\n",
            "Selecting previously unselected package golang-doc.\n",
            "Preparing to unpack .../6-golang-doc_2%3a1.18~0ubuntu2_all.deb ...\n",
            "Unpacking golang-doc (2:1.18~0ubuntu2) ...\n",
            "Selecting previously unselected package golang:amd64.\n",
            "Preparing to unpack .../7-golang_2%3a1.18~0ubuntu2_amd64.deb ...\n",
            "Unpacking golang:amd64 (2:1.18~0ubuntu2) ...\n",
            "Setting up golang-1.18-doc (1.18.1-1ubuntu1.1) ...\n",
            "Setting up golang-1.18-src (1.18.1-1ubuntu1.1) ...\n",
            "Setting up golang-src (2:1.18~0ubuntu2) ...\n",
            "Setting up golang-1.18-go (1.18.1-1ubuntu1.1) ...\n",
            "Setting up golang-1.18 (1.18.1-1ubuntu1.1) ...\n",
            "Setting up golang-go:amd64 (2:1.18~0ubuntu2) ...\n",
            "Setting up golang-doc (2:1.18~0ubuntu2) ...\n",
            "Setting up golang:amd64 (2:1.18~0ubuntu2) ...\n",
            "Processing triggers for man-db (2.10.2-1) ...\n"
          ]
        }
      ],
      "source": [
        "!apt-get install golang\n"
      ]
    },
    {
      "cell_type": "markdown",
      "source": [
        "確認"
      ],
      "metadata": {
        "id": "QbPWE8dZXwwD"
      }
    },
    {
      "cell_type": "code",
      "source": [
        "!go version"
      ],
      "metadata": {
        "colab": {
          "base_uri": "https://localhost:8080/"
        },
        "id": "zyYCWylwXyP3",
        "outputId": "bb855c31-2215-479a-8e3d-eae97ee7be61"
      },
      "execution_count": 2,
      "outputs": [
        {
          "output_type": "stream",
          "name": "stdout",
          "text": [
            "go version go1.18.1 linux/amd64\n"
          ]
        }
      ]
    },
    {
      "cell_type": "markdown",
      "source": [
        "テスト"
      ],
      "metadata": {
        "id": "4n0VWD8kY4Jv"
      }
    },
    {
      "cell_type": "code",
      "source": [
        "%%writefile helloworld.go\n",
        "package main\n",
        "\n",
        "import \"fmt\"\n",
        "\n",
        "func main() {\n",
        "    fmt.Printf(\"Hello World!\\n\")\n",
        "}\n"
      ],
      "metadata": {
        "colab": {
          "base_uri": "https://localhost:8080/"
        },
        "id": "ESPlul9hY5RC",
        "outputId": "54cfdff3-a2be-43f2-fefc-f104ac79355b"
      },
      "execution_count": 7,
      "outputs": [
        {
          "output_type": "stream",
          "name": "stdout",
          "text": [
            "Overwriting helloworld.go\n"
          ]
        }
      ]
    },
    {
      "cell_type": "code",
      "source": [
        "!go run helloworld.go\n"
      ],
      "metadata": {
        "colab": {
          "base_uri": "https://localhost:8080/"
        },
        "id": "ZiwIF1gzY6v3",
        "outputId": "89f66d82-5913-4f86-bb9f-1b301fb61863"
      },
      "execution_count": 8,
      "outputs": [
        {
          "output_type": "stream",
          "name": "stdout",
          "text": [
            "Hello World!\n"
          ]
        }
      ]
    },
    {
      "cell_type": "markdown",
      "source": [
        "### 実行"
      ],
      "metadata": {
        "id": "M_lIV4rnZGw0"
      }
    },
    {
      "cell_type": "code",
      "source": [
        "%%writefile chat.go\n",
        "package main\n",
        "\n",
        "import (\n",
        "\t\"bufio\"\n",
        "\t\"crypto/tls\"\n",
        "\t\"fmt\"\n",
        "\t\"log\"\n",
        "\t\"os\"\n",
        "\t\"regexp\"\n",
        "\t\"strings\"\n",
        "\t\"sync\"\n",
        ")\n",
        "\n",
        "var re = regexp.MustCompile(\"[\\u001B\\u009B][[\\\\]()#;?]*(?:(?:(?:[a-zA-Z\\\\d]*(?:;[a-zA-Z\\\\d]*)*)?\\u0007)|(?:(?:\\\\d{1,4}(?:;\\\\d{0,4})*)?[\\\\dA-PRZcf-ntqry=><~]))\")\n",
        "\n",
        "func main() {\n",
        "\tconfig := tls.Config{Certificates: []tls.Certificate{}, InsecureSkipVerify: false}\n",
        "\tconn, err := tls.Dial(\"tcp\", \"koukoku.shadan.open.ad.jp:992\", &config)\n",
        "\tif err != nil {\n",
        "\t\tlog.Fatalf(\"client: dial: %s\", err)\n",
        "\t}\n",
        "\tdefer conn.Close()\n",
        "\tlog.Println(\"client: connected to: \", conn.RemoteAddr())\n",
        "\tfmt.Fprintln(conn, \"nobody\")\n",
        "\n",
        "\tvar wg sync.WaitGroup\n",
        "\twg.Add(1)\n",
        "\tgo func() {\n",
        "\t\tdefer wg.Done()\n",
        "\t\tscanner := bufio.NewScanner(conn)\n",
        "\t\tfor scanner.Scan() {\n",
        "\t\t\tline := strings.TrimSpace(re.ReplaceAllString(scanner.Text(), \"\"))\n",
        "\t\t\tfmt.Println(line)\n",
        "\t\t}\n",
        "\t}()\n",
        "\n",
        "\twg.Add(1)\n",
        "\tgo func() {\n",
        "\t\tdefer wg.Done()\n",
        "\t\tscanner := bufio.NewScanner(os.Stdin)\n",
        "\t\tfor scanner.Scan() {\n",
        "\t\t\tfmt.Fprintln(conn, scanner.Text())\n",
        "\t\t}\n",
        "\t}()\n",
        "\n",
        "\twg.Wait()\n",
        "}"
      ],
      "metadata": {
        "colab": {
          "base_uri": "https://localhost:8080/"
        },
        "id": "cgjSejmNZI6R",
        "outputId": "b16c6134-6218-4594-c710-78417d1ff309"
      },
      "execution_count": 9,
      "outputs": [
        {
          "output_type": "stream",
          "name": "stdout",
          "text": [
            "Overwriting chat.go\n"
          ]
        }
      ]
    },
    {
      "cell_type": "code",
      "source": [
        "!go run chat.go"
      ],
      "metadata": {
        "colab": {
          "base_uri": "https://localhost:8080/"
        },
        "id": "l1Cz3KhKZtrO",
        "outputId": "c95f4268-3608-4638-cdbd-94ce99e2ae60"
      },
      "execution_count": 10,
      "outputs": [
        {
          "output_type": "stream",
          "name": "stdout",
          "text": [
            "2023/09/07 02:15:33 client: connected to:  103.41.63.2:992\n",
            "﻿\n",
            ">>チャットクライアントです。by watanabe3tipapa <<\n",
            "signal: interrupt\n"
          ]
        }
      ]
    },
    {
      "cell_type": "markdown",
      "source": [
        "---"
      ],
      "metadata": {
        "id": "C9CNHxiqa7SP"
      }
    },
    {
      "cell_type": "markdown",
      "source": [
        "^C"
      ],
      "metadata": {
        "id": "9-pZW_2sa8za"
      }
    },
    {
      "cell_type": "markdown",
      "source": [],
      "metadata": {
        "id": "wBipemQFX3qu"
      }
    }
  ]
}

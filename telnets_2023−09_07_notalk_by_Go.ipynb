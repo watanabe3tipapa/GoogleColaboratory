{
  "nbformat": 4,
  "nbformat_minor": 0,
  "metadata": {
    "colab": {
      "provenance": [],
      "authorship_tag": "ABX9TyOJlblrxS1mpGmpRzyLfd16",
      "include_colab_link": true
    },
    "kernelspec": {
      "name": "python3",
      "display_name": "Python 3"
    },
    "language_info": {
      "name": "python"
    }
  },
  "cells": [
    {
      "cell_type": "markdown",
      "metadata": {
        "id": "view-in-github",
        "colab_type": "text"
      },
      "source": [
        "<a href=\"https://colab.research.google.com/github/watanabe3tipapa/GoogleColaboratory/blob/main/telnets_2023%E2%88%9209_07_notalk_by_Go.ipynb\" target=\"_parent\"><img src=\"https://colab.research.google.com/assets/colab-badge.svg\" alt=\"Open In Colab\"/></a>"
      ]
    },
    {
      "cell_type": "markdown",
      "source": [
        "# インターネット公告システム ホームページ"
      ],
      "metadata": {
        "id": "6r4rEJbvXgIn"
      }
    },
    {
      "cell_type": "markdown",
      "source": [
        "一般社団法人サイバー技術・インターネット自由研究会"
      ],
      "metadata": {
        "id": "OV6RcY6JaVme"
      }
    },
    {
      "cell_type": "markdown",
      "source": [
        "> 「電子公告」の閲覧用のクライアントです"
      ],
      "metadata": {
        "id": "YY8Lugrsab07"
      }
    },
    {
      "cell_type": "markdown",
      "source": [
        "### 準備"
      ],
      "metadata": {
        "id": "kO0NhixbXomu"
      }
    },
    {
      "cell_type": "markdown",
      "source": [
        "Goを実装します"
      ],
      "metadata": {
        "id": "O0odeoRrXm07"
      }
    },
    {
      "cell_type": "code",
      "execution_count": 1,
      "metadata": {
        "colab": {
          "base_uri": "https://localhost:8080/"
        },
        "id": "fQyFkBXaXRe2",
        "outputId": "616e4221-6f5e-4cb6-db3e-9fe3c7cf1e05"
      },
      "outputs": [
        {
          "output_type": "stream",
          "name": "stdout",
          "text": [
            "Reading package lists... Done\n",
            "Building dependency tree... Done\n",
            "Reading state information... Done\n",
            "The following additional packages will be installed:\n",
            "  golang-1.18 golang-1.18-doc golang-1.18-go golang-1.18-src golang-doc\n",
            "  golang-go golang-src\n",
            "Suggested packages:\n",
            "  bzr | brz mercurial subversion\n",
            "The following NEW packages will be installed:\n",
            "  golang golang-1.18 golang-1.18-doc golang-1.18-go golang-1.18-src golang-doc\n",
            "  golang-go golang-src\n",
            "0 upgraded, 8 newly installed, 0 to remove and 16 not upgraded.\n",
            "Need to get 82.5 MB of archives.\n",
            "After this operation, 437 MB of additional disk space will be used.\n",
            "Get:1 http://archive.ubuntu.com/ubuntu jammy-updates/main amd64 golang-1.18-doc all 1.18.1-1ubuntu1.1 [103 kB]\n",
            "Get:2 http://archive.ubuntu.com/ubuntu jammy-updates/main amd64 golang-1.18-src all 1.18.1-1ubuntu1.1 [16.2 MB]\n",
            "Get:3 http://archive.ubuntu.com/ubuntu jammy-updates/main amd64 golang-1.18-go amd64 1.18.1-1ubuntu1.1 [66.0 MB]\n",
            "Get:4 http://archive.ubuntu.com/ubuntu jammy-updates/main amd64 golang-1.18 all 1.18.1-1ubuntu1.1 [11.2 kB]\n",
            "Get:5 http://archive.ubuntu.com/ubuntu jammy/main amd64 golang-src all 2:1.18~0ubuntu2 [4,438 B]\n",
            "Get:6 http://archive.ubuntu.com/ubuntu jammy/main amd64 golang-go amd64 2:1.18~0ubuntu2 [41.8 kB]\n",
            "Get:7 http://archive.ubuntu.com/ubuntu jammy/main amd64 golang-doc all 2:1.18~0ubuntu2 [2,784 B]\n",
            "Get:8 http://archive.ubuntu.com/ubuntu jammy/main amd64 golang amd64 2:1.18~0ubuntu2 [2,732 B]\n",
            "Fetched 82.5 MB in 1s (77.8 MB/s)\n",
            "Selecting previously unselected package golang-1.18-doc.\n",
            "(Reading database ... 120901 files and directories currently installed.)\n",
            "Preparing to unpack .../0-golang-1.18-doc_1.18.1-1ubuntu1.1_all.deb ...\n",
            "Unpacking golang-1.18-doc (1.18.1-1ubuntu1.1) ...\n",
            "Selecting previously unselected package golang-1.18-src.\n",
            "Preparing to unpack .../1-golang-1.18-src_1.18.1-1ubuntu1.1_all.deb ...\n",
            "Unpacking golang-1.18-src (1.18.1-1ubuntu1.1) ...\n",
            "Selecting previously unselected package golang-1.18-go.\n",
            "Preparing to unpack .../2-golang-1.18-go_1.18.1-1ubuntu1.1_amd64.deb ...\n",
            "Unpacking golang-1.18-go (1.18.1-1ubuntu1.1) ...\n",
            "Selecting previously unselected package golang-1.18.\n",
            "Preparing to unpack .../3-golang-1.18_1.18.1-1ubuntu1.1_all.deb ...\n",
            "Unpacking golang-1.18 (1.18.1-1ubuntu1.1) ...\n",
            "Selecting previously unselected package golang-src.\n",
            "Preparing to unpack .../4-golang-src_2%3a1.18~0ubuntu2_all.deb ...\n",
            "Unpacking golang-src (2:1.18~0ubuntu2) ...\n",
            "Selecting previously unselected package golang-go:amd64.\n",
            "Preparing to unpack .../5-golang-go_2%3a1.18~0ubuntu2_amd64.deb ...\n",
            "Unpacking golang-go:amd64 (2:1.18~0ubuntu2) ...\n",
            "Selecting previously unselected package golang-doc.\n",
            "Preparing to unpack .../6-golang-doc_2%3a1.18~0ubuntu2_all.deb ...\n",
            "Unpacking golang-doc (2:1.18~0ubuntu2) ...\n",
            "Selecting previously unselected package golang:amd64.\n",
            "Preparing to unpack .../7-golang_2%3a1.18~0ubuntu2_amd64.deb ...\n",
            "Unpacking golang:amd64 (2:1.18~0ubuntu2) ...\n",
            "Setting up golang-1.18-doc (1.18.1-1ubuntu1.1) ...\n",
            "Setting up golang-1.18-src (1.18.1-1ubuntu1.1) ...\n",
            "Setting up golang-src (2:1.18~0ubuntu2) ...\n",
            "Setting up golang-1.18-go (1.18.1-1ubuntu1.1) ...\n",
            "Setting up golang-1.18 (1.18.1-1ubuntu1.1) ...\n",
            "Setting up golang-go:amd64 (2:1.18~0ubuntu2) ...\n",
            "Setting up golang-doc (2:1.18~0ubuntu2) ...\n",
            "Setting up golang:amd64 (2:1.18~0ubuntu2) ...\n",
            "Processing triggers for man-db (2.10.2-1) ...\n"
          ]
        }
      ],
      "source": [
        "!apt-get install golang\n"
      ]
    },
    {
      "cell_type": "markdown",
      "source": [
        "確認"
      ],
      "metadata": {
        "id": "QbPWE8dZXwwD"
      }
    },
    {
      "cell_type": "code",
      "source": [
        "!go version"
      ],
      "metadata": {
        "colab": {
          "base_uri": "https://localhost:8080/"
        },
        "id": "zyYCWylwXyP3",
        "outputId": "b9ed7600-3a60-4200-ecec-312c706c6eeb"
      },
      "execution_count": 2,
      "outputs": [
        {
          "output_type": "stream",
          "name": "stdout",
          "text": [
            "go version go1.18.1 linux/amd64\n"
          ]
        }
      ]
    },
    {
      "cell_type": "markdown",
      "source": [
        "テスト"
      ],
      "metadata": {
        "id": "4n0VWD8kY4Jv"
      }
    },
    {
      "cell_type": "code",
      "source": [
        "%%writefile helloworld.go\n",
        "package main\n",
        "\n",
        "import \"fmt\"\n",
        "\n",
        "func main() {\n",
        "    fmt.Printf(\"Hello World!\\n\")\n",
        "}\n"
      ],
      "metadata": {
        "colab": {
          "base_uri": "https://localhost:8080/"
        },
        "id": "ESPlul9hY5RC",
        "outputId": "4bfbfc1a-95f7-4207-b9ee-62e6a9bd171f"
      },
      "execution_count": 3,
      "outputs": [
        {
          "output_type": "stream",
          "name": "stdout",
          "text": [
            "Writing helloworld.go\n"
          ]
        }
      ]
    },
    {
      "cell_type": "code",
      "source": [
        "!go run helloworld.go\n"
      ],
      "metadata": {
        "colab": {
          "base_uri": "https://localhost:8080/"
        },
        "id": "ZiwIF1gzY6v3",
        "outputId": "96a5135d-4fd7-46df-f0bd-c93241b4b27d"
      },
      "execution_count": 4,
      "outputs": [
        {
          "output_type": "stream",
          "name": "stdout",
          "text": [
            "Hello World!\n"
          ]
        }
      ]
    },
    {
      "cell_type": "markdown",
      "source": [
        "### 実行"
      ],
      "metadata": {
        "id": "M_lIV4rnZGw0"
      }
    },
    {
      "cell_type": "code",
      "source": [
        "%%writefile chat.go\n",
        "package main\n",
        "\n",
        "import (\n",
        "\t\"bufio\"\n",
        "\t\"crypto/tls\"\n",
        "\t\"fmt\"\n",
        "\t\"log\"\n",
        "\t\"os\"\n",
        "\t\"regexp\"\n",
        "\t\"strings\"\n",
        "\t\"sync\"\n",
        ")\n",
        "\n",
        "var re = regexp.MustCompile(\"[\\u001B\\u009B][[\\\\]()#;?]*(?:(?:(?:[a-zA-Z\\\\d]*(?:;[a-zA-Z\\\\d]*)*)?\\u0007)|(?:(?:\\\\d{1,4}(?:;\\\\d{0,4})*)?[\\\\dA-PRZcf-ntqry=><~]))\")\n",
        "\n",
        "func main() {\n",
        "\tconfig := tls.Config{Certificates: []tls.Certificate{}, InsecureSkipVerify: false}\n",
        "\tconn, err := tls.Dial(\"tcp\", \"koukoku.shadan.open.ad.jp:992\", &config)\n",
        "\tif err != nil {\n",
        "\t\tlog.Fatalf(\"client: dial: %s\", err)\n",
        "\t}\n",
        "\tdefer conn.Close()\n",
        "\tlog.Println(\"client: connected to: \", conn.RemoteAddr())\n",
        "\tfmt.Fprintln(conn, \"notalk\")\n",
        "\n",
        "\tvar wg sync.WaitGroup\n",
        "\twg.Add(1)\n",
        "\tgo func() {\n",
        "\t\tdefer wg.Done()\n",
        "\t\tscanner := bufio.NewScanner(conn)\n",
        "\t\tfor scanner.Scan() {\n",
        "\t\t\tline := strings.TrimSpace(re.ReplaceAllString(scanner.Text(), \"\"))\n",
        "\t\t\tfmt.Println(line)\n",
        "\t\t}\n",
        "\t}()\n",
        "\n",
        "\twg.Add(1)\n",
        "\tgo func() {\n",
        "\t\tdefer wg.Done()\n",
        "\t\tscanner := bufio.NewScanner(os.Stdin)\n",
        "\t\tfor scanner.Scan() {\n",
        "\t\t\tfmt.Fprintln(conn, scanner.Text())\n",
        "\t\t}\n",
        "\t}()\n",
        "\n",
        "\twg.Wait()\n",
        "}"
      ],
      "metadata": {
        "colab": {
          "base_uri": "https://localhost:8080/"
        },
        "id": "cgjSejmNZI6R",
        "outputId": "09b67758-1818-461c-f06f-91c6ed15ec89"
      },
      "execution_count": 5,
      "outputs": [
        {
          "output_type": "stream",
          "name": "stdout",
          "text": [
            "Writing chat.go\n"
          ]
        }
      ]
    },
    {
      "cell_type": "code",
      "source": [
        "!go run chat.go"
      ],
      "metadata": {
        "colab": {
          "base_uri": "https://localhost:8080/"
        },
        "id": "l1Cz3KhKZtrO",
        "outputId": "658ecdef-68ce-46d7-9814-f84de9932f79"
      },
      "execution_count": 6,
      "outputs": [
        {
          "output_type": "stream",
          "name": "stdout",
          "text": [
            "2023/09/07 02:39:01 client: connected to:  103.41.63.2:992\n",
            "﻿\n",
            "■□■□■□■□■□■□■□■□■□■□■□■□■□■□■□\n",
            "■□ You must use UTF-8 Encoding to view this page      ■□\n",
            "■□                                                    ■□\n",
            "■□ 一般社団法人サイバー技術・インターネット自由研究会 ■□\n",
            "■□                                                    ■□\n",
            "■□ インターネット公告システム ホームページへようこそ！■□\n",
            "■□               W e l c o m e ! !                    ■□\n",
            "■□■□■□■□■□■□■□■□■□■□■□■□■□■□■□\n",
            "\n",
            "最終更新日時 2023/09/07 (木) 11:17 (JST)\n",
            "\n",
            "- TELNET over TLS/SSL (TCP Port 992) secure edition -\n",
            "\n",
            "あなたは １１７５２０ 番目のアクセス人間です！！\n",
            "Your internet human number is #117520 !!\n",
            "\n",
            "Ｓｏｒｒｙ， Ｊａｐａｎｅｓｅ  ｌａｎｇｕａｇｅ  ｏｎｌｙ．\n",
            "\n",
            "次のとおり電子公告をします。\n",
            "\n",
            "★ 第Ｘ期 決算公告 ★\n",
            "202X 年 X 月 X 日  東京都新宿区○○\n",
            "signal: interrupt\n"
          ]
        }
      ]
    },
    {
      "cell_type": "markdown",
      "source": [
        "---"
      ],
      "metadata": {
        "id": "C9CNHxiqa7SP"
      }
    },
    {
      "cell_type": "markdown",
      "source": [
        "^C"
      ],
      "metadata": {
        "id": "9-pZW_2sa8za"
      }
    },
    {
      "cell_type": "markdown",
      "source": [],
      "metadata": {
        "id": "wBipemQFX3qu"
      }
    }
  ]
}
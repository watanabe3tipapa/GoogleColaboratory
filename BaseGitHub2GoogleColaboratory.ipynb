{
  "nbformat": 4,
  "nbformat_minor": 0,
  "metadata": {
    "colab": {
      "name": "BaseGitHub2GoogleColaboratory.ipynb",
      "provenance": [],
      "collapsed_sections": [],
      "authorship_tag": "ABX9TyN1CDBAFmgwKnLlPXstjX5k",
      "include_colab_link": true
    },
    "kernelspec": {
      "name": "python3",
      "display_name": "Python 3"
    },
    "language_info": {
      "name": "python"
    }
  },
  "cells": [
    {
      "cell_type": "markdown",
      "metadata": {
        "id": "view-in-github",
        "colab_type": "text"
      },
      "source": [
        "<a href=\"https://colab.research.google.com/github/watanabe3tipapa/GoogleColaboratory/blob/main/BaseGitHub2GoogleColaboratory.ipynb\" target=\"_parent\"><img src=\"https://colab.research.google.com/assets/colab-badge.svg\" alt=\"Open In Colab\"/></a>"
      ]
    },
    {
      "cell_type": "markdown",
      "source": [
        "# GitHub上のファイルをColabから直接実行する下準備"
      ],
      "metadata": {
        "id": "aKNQyxT6jguZ"
      }
    },
    {
      "cell_type": "markdown",
      "source": [
        "URLの前半部を置き換えることでアクセス可能なURLとなります。"
      ],
      "metadata": {
        "id": "YugJmNHwlgls"
      }
    },
    {
      "cell_type": "markdown",
      "source": [
        "### URLを置き換える"
      ],
      "metadata": {
        "id": "cLxkW_JWjthM"
      }
    },
    {
      "cell_type": "markdown",
      "source": [
        "① 可変　<br>\n",
        "② 固定"
      ],
      "metadata": {
        "id": "DplRSx8HmlLS"
      }
    },
    {
      "cell_type": "code",
      "source": [
        "# ① github上のURL\n",
        "p_url = \"https://github.com/watanabe3tipapa/GoogleColaboratory/blob/main/EtudeColabGoogleDriveAccess.ipynb\"\n",
        "\n",
        "# ②githubのコードをColabで実行するURLの取得\n",
        "aft_url = p_url.replace('https://github.com', 'https://colab.research.google.com/github');\n",
        "print(aft_url)"
      ],
      "metadata": {
        "colab": {
          "base_uri": "https://localhost:8080/"
        },
        "id": "ESxk0E2Xjz-w",
        "outputId": "84e7ace2-7bc7-478b-ebf8-7cda1c6e8d6c"
      },
      "execution_count": null,
      "outputs": [
        {
          "output_type": "stream",
          "name": "stdout",
          "text": [
            "https://colab.research.google.com/github/watanabe3tipapa/GoogleColaboratory/blob/main/EtudeColabGoogleDriveAccess.ipynb\n"
          ]
        }
      ]
    }
  ]
}
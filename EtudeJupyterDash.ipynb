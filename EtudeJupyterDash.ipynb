{
  "nbformat": 4,
  "nbformat_minor": 0,
  "metadata": {
    "colab": {
      "name": "EtudeJupyterDash.ipynb",
      "provenance": [],
      "collapsed_sections": [],
      "include_colab_link": true
    },
    "kernelspec": {
      "name": "python3",
      "display_name": "Python 3"
    },
    "language_info": {
      "name": "python"
    }
  },
  "cells": [
    {
      "cell_type": "markdown",
      "metadata": {
        "id": "view-in-github",
        "colab_type": "text"
      },
      "source": [
        "<a href=\"https://colab.research.google.com/github/watanabe3tipapa/GoogleColaboratory/blob/main/EtudeJupyterDash.ipynb\" target=\"_parent\"><img src=\"https://colab.research.google.com/assets/colab-badge.svg\" alt=\"Open In Colab\"/></a>"
      ]
    },
    {
      "cell_type": "markdown",
      "source": [
        "# 全体概要\n",
        "1. ColabにてJupyterDashとBootStrapを使用するためのライブラリをインストールする\n",
        "1. webアプリの基底クラスとしてJupyterDashを継承したクラスを作成する\n",
        "  - webページのタイトル（タブに表示される名称）を設定する\n",
        "  - BootStrapを使用可能にする\n",
        "  - レイアウト（html+cssに相当）を設定する抽象メソッドを実行する\n",
        "  - コールバック関数（動的な処理を追加、javascriptに相当）を設定する抽象メソッドを実行する\n",
        "  - 上記抽象メソッド実行後、ポート番号を指定してwebアプリを起動する\n",
        "1. 基底クラスを継承してwebアプリを定義したクラスを作成する\n",
        "  - レイアウトを設定する抽象メソッドをオーバーライドする\n",
        "  - コールバック関数を設定する抽象メソッドをオーバーライドする\n",
        "1. タイトル名とポート番号を指定して実行する"
      ],
      "metadata": {
        "id": "zdDHpYBmeMI8"
      }
    },
    {
      "cell_type": "markdown",
      "source": [
        "# 実行する"
      ],
      "metadata": {
        "id": "JhzqLffkenTp"
      }
    },
    {
      "cell_type": "markdown",
      "source": [
        "1. ColabにてJupyterDashとBootStrapを使用するためのライブラリをインストールする"
      ],
      "metadata": {
        "id": "DUlCDHkkeIx9"
      }
    },
    {
      "cell_type": "code",
      "execution_count": null,
      "metadata": {
        "colab": {
          "base_uri": "https://localhost:8080/"
        },
        "id": "tDZiLTWud9ck",
        "outputId": "6c364f82-5e2b-4b33-c0d1-00af231e31f7"
      },
      "outputs": [
        {
          "output_type": "stream",
          "name": "stdout",
          "text": [
            "Collecting dash==2.0.0\n",
            "  Downloading dash-2.0.0-py3-none-any.whl (7.3 MB)\n",
            "\u001b[K     |████████████████████████████████| 7.3 MB 5.4 MB/s \n",
            "\u001b[?25hCollecting flask-compress\n",
            "  Downloading Flask_Compress-1.11-py3-none-any.whl (7.9 kB)\n",
            "Collecting dash-core-components==2.0.0\n",
            "  Downloading dash_core_components-2.0.0-py3-none-any.whl (3.8 kB)\n",
            "Collecting dash-html-components==2.0.0\n",
            "  Downloading dash_html_components-2.0.0-py3-none-any.whl (4.1 kB)\n",
            "Requirement already satisfied: Flask>=1.0.4 in /usr/local/lib/python3.7/dist-packages (from dash==2.0.0) (1.1.4)\n",
            "Collecting dash-table==5.0.0\n",
            "  Downloading dash_table-5.0.0-py3-none-any.whl (3.9 kB)\n",
            "Requirement already satisfied: plotly>=5.0.0 in /usr/local/lib/python3.7/dist-packages (from dash==2.0.0) (5.5.0)\n",
            "Requirement already satisfied: click<8.0,>=5.1 in /usr/local/lib/python3.7/dist-packages (from Flask>=1.0.4->dash==2.0.0) (7.1.2)\n",
            "Requirement already satisfied: Jinja2<3.0,>=2.10.1 in /usr/local/lib/python3.7/dist-packages (from Flask>=1.0.4->dash==2.0.0) (2.11.3)\n",
            "Requirement already satisfied: Werkzeug<2.0,>=0.15 in /usr/local/lib/python3.7/dist-packages (from Flask>=1.0.4->dash==2.0.0) (1.0.1)\n",
            "Requirement already satisfied: itsdangerous<2.0,>=0.24 in /usr/local/lib/python3.7/dist-packages (from Flask>=1.0.4->dash==2.0.0) (1.1.0)\n",
            "Requirement already satisfied: MarkupSafe>=0.23 in /usr/local/lib/python3.7/dist-packages (from Jinja2<3.0,>=2.10.1->Flask>=1.0.4->dash==2.0.0) (2.0.1)\n",
            "Requirement already satisfied: six in /usr/local/lib/python3.7/dist-packages (from plotly>=5.0.0->dash==2.0.0) (1.15.0)\n",
            "Requirement already satisfied: tenacity>=6.2.0 in /usr/local/lib/python3.7/dist-packages (from plotly>=5.0.0->dash==2.0.0) (8.0.1)\n",
            "Collecting brotli\n",
            "  Downloading Brotli-1.0.9-cp37-cp37m-manylinux1_x86_64.whl (357 kB)\n",
            "\u001b[K     |████████████████████████████████| 357 kB 68.3 MB/s \n",
            "\u001b[?25hInstalling collected packages: brotli, flask-compress, dash-table, dash-html-components, dash-core-components, dash\n",
            "Successfully installed brotli-1.0.9 dash-2.0.0 dash-core-components-2.0.0 dash-html-components-2.0.0 dash-table-5.0.0 flask-compress-1.11\n",
            "Collecting jupyter-dash==0.4.0\n",
            "  Downloading jupyter_dash-0.4.0-py3-none-any.whl (20 kB)\n",
            "Requirement already satisfied: requests in /usr/local/lib/python3.7/dist-packages (from jupyter-dash==0.4.0) (2.23.0)\n",
            "Requirement already satisfied: ipython in /usr/local/lib/python3.7/dist-packages (from jupyter-dash==0.4.0) (5.5.0)\n",
            "Collecting retrying\n",
            "  Downloading retrying-1.3.3.tar.gz (10 kB)\n",
            "Requirement already satisfied: flask in /usr/local/lib/python3.7/dist-packages (from jupyter-dash==0.4.0) (1.1.4)\n",
            "Requirement already satisfied: ipykernel in /usr/local/lib/python3.7/dist-packages (from jupyter-dash==0.4.0) (4.10.1)\n",
            "Requirement already satisfied: dash in /usr/local/lib/python3.7/dist-packages (from jupyter-dash==0.4.0) (2.0.0)\n",
            "Collecting ansi2html\n",
            "  Downloading ansi2html-1.7.0-py3-none-any.whl (15 kB)\n",
            "Requirement already satisfied: importlib-metadata in /usr/local/lib/python3.7/dist-packages (from ansi2html->jupyter-dash==0.4.0) (4.11.2)\n",
            "Requirement already satisfied: flask-compress in /usr/local/lib/python3.7/dist-packages (from dash->jupyter-dash==0.4.0) (1.11)\n",
            "Requirement already satisfied: plotly>=5.0.0 in /usr/local/lib/python3.7/dist-packages (from dash->jupyter-dash==0.4.0) (5.5.0)\n",
            "Requirement already satisfied: dash-core-components==2.0.0 in /usr/local/lib/python3.7/dist-packages (from dash->jupyter-dash==0.4.0) (2.0.0)\n",
            "Requirement already satisfied: dash-html-components==2.0.0 in /usr/local/lib/python3.7/dist-packages (from dash->jupyter-dash==0.4.0) (2.0.0)\n",
            "Requirement already satisfied: dash-table==5.0.0 in /usr/local/lib/python3.7/dist-packages (from dash->jupyter-dash==0.4.0) (5.0.0)\n",
            "Requirement already satisfied: Jinja2<3.0,>=2.10.1 in /usr/local/lib/python3.7/dist-packages (from flask->jupyter-dash==0.4.0) (2.11.3)\n",
            "Requirement already satisfied: itsdangerous<2.0,>=0.24 in /usr/local/lib/python3.7/dist-packages (from flask->jupyter-dash==0.4.0) (1.1.0)\n",
            "Requirement already satisfied: click<8.0,>=5.1 in /usr/local/lib/python3.7/dist-packages (from flask->jupyter-dash==0.4.0) (7.1.2)\n",
            "Requirement already satisfied: Werkzeug<2.0,>=0.15 in /usr/local/lib/python3.7/dist-packages (from flask->jupyter-dash==0.4.0) (1.0.1)\n",
            "Requirement already satisfied: MarkupSafe>=0.23 in /usr/local/lib/python3.7/dist-packages (from Jinja2<3.0,>=2.10.1->flask->jupyter-dash==0.4.0) (2.0.1)\n",
            "Requirement already satisfied: six in /usr/local/lib/python3.7/dist-packages (from plotly>=5.0.0->dash->jupyter-dash==0.4.0) (1.15.0)\n",
            "Requirement already satisfied: tenacity>=6.2.0 in /usr/local/lib/python3.7/dist-packages (from plotly>=5.0.0->dash->jupyter-dash==0.4.0) (8.0.1)\n",
            "Requirement already satisfied: brotli in /usr/local/lib/python3.7/dist-packages (from flask-compress->dash->jupyter-dash==0.4.0) (1.0.9)\n",
            "Requirement already satisfied: zipp>=0.5 in /usr/local/lib/python3.7/dist-packages (from importlib-metadata->ansi2html->jupyter-dash==0.4.0) (3.7.0)\n",
            "Requirement already satisfied: typing-extensions>=3.6.4 in /usr/local/lib/python3.7/dist-packages (from importlib-metadata->ansi2html->jupyter-dash==0.4.0) (3.10.0.2)\n",
            "Requirement already satisfied: tornado>=4.0 in /usr/local/lib/python3.7/dist-packages (from ipykernel->jupyter-dash==0.4.0) (5.1.1)\n",
            "Requirement already satisfied: traitlets>=4.1.0 in /usr/local/lib/python3.7/dist-packages (from ipykernel->jupyter-dash==0.4.0) (5.1.1)\n",
            "Requirement already satisfied: jupyter-client in /usr/local/lib/python3.7/dist-packages (from ipykernel->jupyter-dash==0.4.0) (5.3.5)\n",
            "Requirement already satisfied: simplegeneric>0.8 in /usr/local/lib/python3.7/dist-packages (from ipython->jupyter-dash==0.4.0) (0.8.1)\n",
            "Requirement already satisfied: decorator in /usr/local/lib/python3.7/dist-packages (from ipython->jupyter-dash==0.4.0) (4.4.2)\n",
            "Requirement already satisfied: pygments in /usr/local/lib/python3.7/dist-packages (from ipython->jupyter-dash==0.4.0) (2.6.1)\n",
            "Requirement already satisfied: pexpect in /usr/local/lib/python3.7/dist-packages (from ipython->jupyter-dash==0.4.0) (4.8.0)\n",
            "Requirement already satisfied: pickleshare in /usr/local/lib/python3.7/dist-packages (from ipython->jupyter-dash==0.4.0) (0.7.5)\n",
            "Requirement already satisfied: prompt-toolkit<2.0.0,>=1.0.4 in /usr/local/lib/python3.7/dist-packages (from ipython->jupyter-dash==0.4.0) (1.0.18)\n",
            "Requirement already satisfied: setuptools>=18.5 in /usr/local/lib/python3.7/dist-packages (from ipython->jupyter-dash==0.4.0) (57.4.0)\n",
            "Requirement already satisfied: wcwidth in /usr/local/lib/python3.7/dist-packages (from prompt-toolkit<2.0.0,>=1.0.4->ipython->jupyter-dash==0.4.0) (0.2.5)\n",
            "Requirement already satisfied: pyzmq>=13 in /usr/local/lib/python3.7/dist-packages (from jupyter-client->ipykernel->jupyter-dash==0.4.0) (22.3.0)\n",
            "Requirement already satisfied: jupyter-core>=4.6.0 in /usr/local/lib/python3.7/dist-packages (from jupyter-client->ipykernel->jupyter-dash==0.4.0) (4.9.2)\n",
            "Requirement already satisfied: python-dateutil>=2.1 in /usr/local/lib/python3.7/dist-packages (from jupyter-client->ipykernel->jupyter-dash==0.4.0) (2.8.2)\n",
            "Requirement already satisfied: ptyprocess>=0.5 in /usr/local/lib/python3.7/dist-packages (from pexpect->ipython->jupyter-dash==0.4.0) (0.7.0)\n",
            "Requirement already satisfied: certifi>=2017.4.17 in /usr/local/lib/python3.7/dist-packages (from requests->jupyter-dash==0.4.0) (2021.10.8)\n",
            "Requirement already satisfied: chardet<4,>=3.0.2 in /usr/local/lib/python3.7/dist-packages (from requests->jupyter-dash==0.4.0) (3.0.4)\n",
            "Requirement already satisfied: idna<3,>=2.5 in /usr/local/lib/python3.7/dist-packages (from requests->jupyter-dash==0.4.0) (2.10)\n",
            "Requirement already satisfied: urllib3!=1.25.0,!=1.25.1,<1.26,>=1.21.1 in /usr/local/lib/python3.7/dist-packages (from requests->jupyter-dash==0.4.0) (1.24.3)\n",
            "Building wheels for collected packages: retrying\n",
            "  Building wheel for retrying (setup.py) ... \u001b[?25l\u001b[?25hdone\n",
            "  Created wheel for retrying: filename=retrying-1.3.3-py3-none-any.whl size=11447 sha256=7defe7a2c70db5a1268c679829475f619c8784d3f0bb351296039244470d3eb8\n",
            "  Stored in directory: /root/.cache/pip/wheels/f9/8d/8d/f6af3f7f9eea3553bc2fe6d53e4b287dad18b06a861ac56ddf\n",
            "Successfully built retrying\n",
            "Installing collected packages: retrying, ansi2html, jupyter-dash\n",
            "Successfully installed ansi2html-1.7.0 jupyter-dash-0.4.0 retrying-1.3.3\n",
            "Collecting dash_bootstrap_components==0.13.1\n",
            "  Downloading dash_bootstrap_components-0.13.1-py3-none-any.whl (197 kB)\n",
            "\u001b[K     |████████████████████████████████| 197 kB 5.5 MB/s \n",
            "\u001b[?25hRequirement already satisfied: dash>=1.9.0 in /usr/local/lib/python3.7/dist-packages (from dash_bootstrap_components==0.13.1) (2.0.0)\n",
            "Requirement already satisfied: plotly>=5.0.0 in /usr/local/lib/python3.7/dist-packages (from dash>=1.9.0->dash_bootstrap_components==0.13.1) (5.5.0)\n",
            "Requirement already satisfied: dash-table==5.0.0 in /usr/local/lib/python3.7/dist-packages (from dash>=1.9.0->dash_bootstrap_components==0.13.1) (5.0.0)\n",
            "Requirement already satisfied: flask-compress in /usr/local/lib/python3.7/dist-packages (from dash>=1.9.0->dash_bootstrap_components==0.13.1) (1.11)\n",
            "Requirement already satisfied: dash-html-components==2.0.0 in /usr/local/lib/python3.7/dist-packages (from dash>=1.9.0->dash_bootstrap_components==0.13.1) (2.0.0)\n",
            "Requirement already satisfied: dash-core-components==2.0.0 in /usr/local/lib/python3.7/dist-packages (from dash>=1.9.0->dash_bootstrap_components==0.13.1) (2.0.0)\n",
            "Requirement already satisfied: Flask>=1.0.4 in /usr/local/lib/python3.7/dist-packages (from dash>=1.9.0->dash_bootstrap_components==0.13.1) (1.1.4)\n",
            "Requirement already satisfied: Werkzeug<2.0,>=0.15 in /usr/local/lib/python3.7/dist-packages (from Flask>=1.0.4->dash>=1.9.0->dash_bootstrap_components==0.13.1) (1.0.1)\n",
            "Requirement already satisfied: Jinja2<3.0,>=2.10.1 in /usr/local/lib/python3.7/dist-packages (from Flask>=1.0.4->dash>=1.9.0->dash_bootstrap_components==0.13.1) (2.11.3)\n",
            "Requirement already satisfied: itsdangerous<2.0,>=0.24 in /usr/local/lib/python3.7/dist-packages (from Flask>=1.0.4->dash>=1.9.0->dash_bootstrap_components==0.13.1) (1.1.0)\n",
            "Requirement already satisfied: click<8.0,>=5.1 in /usr/local/lib/python3.7/dist-packages (from Flask>=1.0.4->dash>=1.9.0->dash_bootstrap_components==0.13.1) (7.1.2)\n",
            "Requirement already satisfied: MarkupSafe>=0.23 in /usr/local/lib/python3.7/dist-packages (from Jinja2<3.0,>=2.10.1->Flask>=1.0.4->dash>=1.9.0->dash_bootstrap_components==0.13.1) (2.0.1)\n",
            "Requirement already satisfied: tenacity>=6.2.0 in /usr/local/lib/python3.7/dist-packages (from plotly>=5.0.0->dash>=1.9.0->dash_bootstrap_components==0.13.1) (8.0.1)\n",
            "Requirement already satisfied: six in /usr/local/lib/python3.7/dist-packages (from plotly>=5.0.0->dash>=1.9.0->dash_bootstrap_components==0.13.1) (1.15.0)\n",
            "Requirement already satisfied: brotli in /usr/local/lib/python3.7/dist-packages (from flask-compress->dash>=1.9.0->dash_bootstrap_components==0.13.1) (1.0.9)\n",
            "Installing collected packages: dash-bootstrap-components\n",
            "Successfully installed dash-bootstrap-components-0.13.1\n"
          ]
        }
      ],
      "source": [
        "# dashのインストール\n",
        "!pip install dash==2.0.0\n",
        "\n",
        "# jupyter-dashインストール\n",
        "!pip install jupyter-dash==0.4.0\n",
        "\n",
        "# dash_bootstrap_componentsインストール\n",
        "!pip install dash_bootstrap_components==0.13.1"
      ]
    },
    {
      "cell_type": "markdown",
      "source": [
        "2. webアプリの基底クラスとしてJupyterDashを継承したクラスを作成する"
      ],
      "metadata": {
        "id": "MoP06QW0eu-N"
      }
    },
    {
      "cell_type": "code",
      "source": [
        "from jupyter_dash import JupyterDash\n",
        "import dash_bootstrap_components as dbc\n",
        "\n",
        "class JupyterDashBootStrap(JupyterDash):\n",
        "  def __init__(self, _title, _port):\n",
        "    super().__init__(__name__, external_stylesheets=self.__external_stylesheets())\n",
        "    if _title is not None:\n",
        "      self.title = _title\n",
        "    self.__setlayout()\n",
        "    self.__run(_port)\n",
        "  \n",
        "  def __setlayout(self):\n",
        "      self.layout = self.buildbaselayout()\n",
        "      self.registcalback(self)\n",
        "\n",
        "  def buildbaselayout(self):\n",
        "      return\n",
        "  \n",
        "  def registcalback(self, app):\n",
        "      return\n",
        "\n",
        "  def __run(self, _port):\n",
        "    if _port is None:\n",
        "      self.run_server(mode=\"external\")\n",
        "    else:\n",
        "      self.run_server(mode=\"external\", port=_port )\n",
        "  \n",
        "  def __external_stylesheets(self):\n",
        "    return [dbc.themes.BOOTSTRAP]"
      ],
      "metadata": {
        "id": "TxkCDLJuesMT",
        "colab": {
          "base_uri": "https://localhost:8080/",
          "height": 88
        },
        "outputId": "d6c7567a-ebb0-4398-d3f1-0bd62942002c"
      },
      "execution_count": null,
      "outputs": [
        {
          "output_type": "stream",
          "name": "stderr",
          "text": [
            "/usr/local/lib/python3.7/dist-packages/dash_bootstrap_components/_table.py:5: UserWarning: \n",
            "The dash_html_components package is deprecated. Please replace\n",
            "`import dash_html_components as html` with `from dash import html`\n",
            "  import dash_html_components as html\n"
          ]
        }
      ]
    },
    {
      "cell_type": "markdown",
      "source": [
        "3. 基底クラスを継承してwebアプリを定義したクラスを作成する"
      ],
      "metadata": {
        "id": "tYojrb9ee4Ui"
      }
    },
    {
      "cell_type": "markdown",
      "source": [
        "### Simple sidebar"
      ],
      "metadata": {
        "id": "uySWjHtTiNn5"
      }
    },
    {
      "cell_type": "code",
      "source": [
        "from dash import html\n",
        "from dash.dependencies import Input, Output\n",
        "from dash import dcc\n",
        "from dash.dependencies import Input, Output\n",
        "class MyDash(JupyterDashBootStrap):\n",
        "  def buildbaselayout(self):\n",
        "    # the style arguments for the sidebar. We use position:fixed and a fixed width\n",
        "    SIDEBAR_STYLE = {\n",
        "        \"position\": \"fixed\",\n",
        "        \"top\": 0,\n",
        "        \"left\": 0,\n",
        "        \"bottom\": 0,\n",
        "        \"width\": \"16rem\",\n",
        "        \"padding\": \"2rem 1rem\",\n",
        "        \"background-color\": \"#f8f9fa\",\n",
        "    }\n",
        "\n",
        "    # the styles for the main content position it to the right of the sidebar and\n",
        "    # add some padding.\n",
        "    CONTENT_STYLE = {\n",
        "        \"margin-left\": \"18rem\",\n",
        "        \"margin-right\": \"2rem\",\n",
        "        \"padding\": \"2rem 1rem\",\n",
        "    }\n",
        "\n",
        "    sidebar = html.Div(\n",
        "        [\n",
        "            html.H2(\"Sidebar\", className=\"display-4\"),\n",
        "            html.Hr(),\n",
        "            html.P(\n",
        "                \"A simple sidebar layout with navigation links\", className=\"lead\"\n",
        "            ),\n",
        "            dbc.Nav(\n",
        "                [\n",
        "                    dbc.NavLink(\"Home\", href=\"/\", active=\"exact\"),\n",
        "                    dbc.NavLink(\"Page 1\", href=\"/page-1\", active=\"exact\"),\n",
        "                    dbc.NavLink(\"Page 2\", href=\"/page-2\", active=\"exact\"),\n",
        "                    dbc.NavLink(\"Page 3\", href=\"/page-3\", active=\"exact\"),\n",
        "                ],\n",
        "                vertical=True,\n",
        "                pills=True,\n",
        "            ),\n",
        "        ],\n",
        "        style=SIDEBAR_STYLE,\n",
        "    )\n",
        "\n",
        "    content = html.Div(id=\"page-content\", style=CONTENT_STYLE)\n",
        "    return html.Div([dcc.Location(id=\"url\"), sidebar, content])\n",
        "\n",
        "  def registcalback(self, app):\n",
        "    @app.callback(\n",
        "        Output(\"page-content\", \"children\"), \n",
        "        [Input(\"url\", \"pathname\")]\n",
        "        )\n",
        "    def render_page_content(pathname):\n",
        "      print()\n",
        "      if pathname == \"/\":\n",
        "          return html.P(\"This is the content of the Google Colaboratory\")\n",
        "      elif pathname == \"/page-1\":\n",
        "          return html.P(\"This is the content of page 1. Hello World!\")\n",
        "      elif pathname == \"/page-2\":\n",
        "          return html.P(\"Oh cool, this is page 2!\")\n",
        "      elif pathname == \"/page-3\":\n",
        "          return html.P(\"Oh cool, this is page 3!\")\n",
        "\n",
        "      # If the user tries to reach a different page, return a 404 message\n",
        "      return dbc.Jumbotron(\n",
        "          [\n",
        "              html.H1(\"404: Not found\", className=\"text-danger\"),\n",
        "              html.Hr(),\n",
        "              html.P(f\"The pathname {pathname} was not recognised...\"),\n",
        "          ]\n",
        "      )"
      ],
      "metadata": {
        "id": "i9mDDrtqe049"
      },
      "execution_count": null,
      "outputs": []
    },
    {
      "cell_type": "markdown",
      "source": [
        "### Graphs in Tabs"
      ],
      "metadata": {
        "id": "4bkchcm-fOc_"
      }
    },
    {
      "cell_type": "code",
      "source": [
        "import time\n",
        "import dash_bootstrap_components as dbc\n",
        "import dash_core_components as dcc\n",
        "import dash_html_components as html\n",
        "import numpy as np\n",
        "import plotly.graph_objs as go\n",
        "from dash.dependencies import Input, Output\n",
        "import pandas as pd\n",
        "from sklearn import datasets\n",
        "from sklearn.cluster import KMeans\n",
        "\n",
        "iris_raw = datasets.load_iris()\n",
        "iris = pd.DataFrame(iris_raw[\"data\"], columns=iris_raw[\"feature_names\"])\n",
        "class MyDash2(JupyterDashBootStrap):\n",
        "  def buildbaselayout(self):\n",
        "    layout = dbc.Container(\n",
        "        [\n",
        "            dcc.Store(id=\"store\"),\n",
        "            html.H1(\"Dynamically rendered tab content\"),\n",
        "            html.Hr(),\n",
        "            dbc.Button(\n",
        "                \"Regenerate graphs\",\n",
        "                color=\"primary\",\n",
        "                block=True,\n",
        "                id=\"button\",\n",
        "                className=\"mb-3\",\n",
        "            ),\n",
        "            dbc.Tabs(\n",
        "                [\n",
        "                    dbc.Tab(label=\"Scatter\", tab_id=\"scatter\"),\n",
        "                    dbc.Tab(label=\"Histograms\", tab_id=\"histogram\"),\n",
        "                ],\n",
        "                id=\"tabs\",\n",
        "                active_tab=\"scatter\",\n",
        "            ),\n",
        "            html.Div(id=\"tab-content\", className=\"p-4\"),\n",
        "        ]\n",
        "    )\n",
        "\n",
        "    return layout\n",
        "\n",
        "  def registcalback(self, app):\n",
        "    @app.callback(\n",
        "        Output(\"tab-content\", \"children\"),\n",
        "        [Input(\"tabs\", \"active_tab\"), Input(\"store\", \"data\")],\n",
        "    )\n",
        "    def render_tab_content(active_tab, data):\n",
        "        \"\"\"\n",
        "        This callback takes the 'active_tab' property as input, as well as the\n",
        "        stored graphs, and renders the tab content depending on what the value of\n",
        "        'active_tab' is.\n",
        "        \"\"\"\n",
        "        if active_tab and data is not None:\n",
        "            if active_tab == \"scatter\":\n",
        "                return dcc.Graph(figure=data[\"scatter\"])\n",
        "            elif active_tab == \"histogram\":\n",
        "                return dbc.Row(\n",
        "                    [\n",
        "                        dbc.Col(dcc.Graph(figure=data[\"hist_1\"]), width=6),\n",
        "                        dbc.Col(dcc.Graph(figure=data[\"hist_2\"]), width=6),\n",
        "                    ]\n",
        "                )\n",
        "        return \"No tab selected\"\n",
        "\n",
        "\n",
        "    @app.callback(Output(\"store\", \"data\"), [Input(\"button\", \"n_clicks\")])\n",
        "    def generate_graphs(n):\n",
        "        \"\"\"\n",
        "        This callback generates three simple graphs from random data.\n",
        "        \"\"\"\n",
        "        if not n:\n",
        "            # generate empty graphs when app loads\n",
        "            return {k: go.Figure(data=[]) for k in [\"scatter\", \"hist_1\", \"hist_2\"]}\n",
        "\n",
        "        # simulate expensive graph generation process\n",
        "        time.sleep(2)\n",
        "\n",
        "        # generate 100 multivariate normal samples\n",
        "        data = np.random.multivariate_normal([0, 0], [[1, 0.5], [0.5, 1]], 100)\n",
        "\n",
        "        scatter = go.Figure(\n",
        "            data=[go.Scatter(x=data[:, 0], y=data[:, 1], mode=\"markers\")]\n",
        "        )\n",
        "        hist_1 = go.Figure(data=[go.Histogram(x=data[:, 0])])\n",
        "        hist_2 = go.Figure(data=[go.Histogram(x=data[:, 1])])\n",
        "\n",
        "        # save figures in a dictionary for sending to the dcc.Store\n",
        "        return {\"scatter\": scatter, \"hist_1\": hist_1, \"hist_2\": hist_2}"
      ],
      "metadata": {
        "id": "3X2gJGrmfJZ6",
        "colab": {
          "base_uri": "https://localhost:8080/"
        },
        "outputId": "508bb57f-6840-476c-9255-d2ae8e5fb42f"
      },
      "execution_count": null,
      "outputs": [
        {
          "output_type": "stream",
          "name": "stderr",
          "text": [
            "/usr/local/lib/python3.7/dist-packages/ipykernel_launcher.py:3: UserWarning: \n",
            "The dash_core_components package is deprecated. Please replace\n",
            "`import dash_core_components as dcc` with `from dash import dcc`\n",
            "  This is separate from the ipykernel package so we can avoid doing imports until\n"
          ]
        }
      ]
    },
    {
      "cell_type": "markdown",
      "source": [
        "4. タイトル名とポート番号を指定して実行する"
      ],
      "metadata": {
        "id": "D2iv1TyzfZOz"
      }
    },
    {
      "cell_type": "code",
      "source": [
        "MyDash(\"*** Simple sidebar ***\", 8881)\n",
        "MyDash2(\"*** Graphs in Tabs ***\", 8882)\n"
      ],
      "metadata": {
        "colab": {
          "base_uri": "https://localhost:8080/",
          "height": 105
        },
        "id": "OcCTTnzLe5xi",
        "outputId": "8e22ced9-f46e-4ca5-bf9e-e75eac0c2167"
      },
      "execution_count": null,
      "outputs": [
        {
          "output_type": "stream",
          "name": "stdout",
          "text": [
            "Dash app running on:\n"
          ]
        },
        {
          "output_type": "display_data",
          "data": {
            "text/plain": [
              "<IPython.core.display.Javascript object>"
            ],
            "application/javascript": [
              "(async (port, path, text, element) => {\n",
              "    if (!google.colab.kernel.accessAllowed) {\n",
              "      return;\n",
              "    }\n",
              "    element.appendChild(document.createTextNode(''));\n",
              "    const url = await google.colab.kernel.proxyPort(port);\n",
              "    const anchor = document.createElement('a');\n",
              "    anchor.href = new URL(path, url).toString();\n",
              "    anchor.target = '_blank';\n",
              "    anchor.setAttribute('data-href', url + path);\n",
              "    anchor.textContent = text;\n",
              "    element.appendChild(anchor);\n",
              "  })(8881, \"/\", \"http://127.0.0.1:8881/\", window.element)"
            ]
          },
          "metadata": {}
        },
        {
          "output_type": "stream",
          "name": "stdout",
          "text": [
            "Dash app running on:\n"
          ]
        },
        {
          "output_type": "display_data",
          "data": {
            "text/plain": [
              "<IPython.core.display.Javascript object>"
            ],
            "application/javascript": [
              "(async (port, path, text, element) => {\n",
              "    if (!google.colab.kernel.accessAllowed) {\n",
              "      return;\n",
              "    }\n",
              "    element.appendChild(document.createTextNode(''));\n",
              "    const url = await google.colab.kernel.proxyPort(port);\n",
              "    const anchor = document.createElement('a');\n",
              "    anchor.href = new URL(path, url).toString();\n",
              "    anchor.target = '_blank';\n",
              "    anchor.setAttribute('data-href', url + path);\n",
              "    anchor.textContent = text;\n",
              "    element.appendChild(anchor);\n",
              "  })(8882, \"/\", \"http://127.0.0.1:8882/\", window.element)"
            ]
          },
          "metadata": {}
        },
        {
          "output_type": "execute_result",
          "data": {
            "text/plain": [
              "<__main__.MyDash2 at 0x7f81772e5350>"
            ]
          },
          "metadata": {},
          "execution_count": 5
        }
      ]
    },
    {
      "cell_type": "code",
      "source": [
        ""
      ],
      "metadata": {
        "id": "5hsoNCVpfbx_"
      },
      "execution_count": null,
      "outputs": []
    }
  ]
}
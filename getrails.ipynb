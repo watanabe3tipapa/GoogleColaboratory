{
  "cells": [
    {
      "cell_type": "markdown",
      "metadata": {
        "colab_type": "text",
        "id": "view-in-github"
      },
      "source": [
        "<a href=\"https://colab.research.google.com/github/watanabe3tipapa/GoogleColaboratory/blob/main/getrails.ipynb\" target=\"_parent\"><img src=\"https://colab.research.google.com/assets/colab-badge.svg\" alt=\"Open In Colab\"/></a>"
      ]
    },
    {
      "cell_type": "markdown",
      "metadata": {
        "id": "DEHkAsu7NnAR"
      },
      "source": [
        "# 路線名と駅名を調べる方法"
      ]
    },
    {
      "cell_type": "markdown",
      "metadata": {
        "id": "QeYm4qps1cmd"
      },
      "source": [
        "### ここでは http://express.heartrails.com のAPIを利用します"
      ]
    },
    {
      "cell_type": "markdown",
      "metadata": {
        "id": "l9OOT8_R1aWq"
      },
      "source": [
        "**次の手順で行います。**"
      ]
    },
    {
      "cell_type": "markdown",
      "metadata": {
        "id": "awlnkjJpJ7Cw"
      },
      "source": [
        "\"路線\"の検索については５行目の**\"都道府県名\"**を変更して実行します。"
      ]
    },
    {
      "cell_type": "code",
      "execution_count": 1,
      "metadata": {
        "colab": {
          "base_uri": "https://localhost:8080/"
        },
        "id": "0foeBAkvJSPw",
        "outputId": "b144a131-a3d4-4717-d4b9-1fce9d5ce259"
      },
      "outputs": [
        {
          "name": "stdout",
          "output_type": "stream",
          "text": [
            "路線名一覧:\n",
            "JR函館支線\n",
            "JR函館本線\n",
            "JR千歳線\n",
            "JR宗谷本線\n",
            "JR室蘭支線\n",
            "JR室蘭本線\n",
            "JR富良野線\n",
            "JR日高本線\n",
            "JR札沼線\n",
            "JR根室本線\n",
            "道南いさりび鉄道線\n",
            "JR海峡線\n",
            "JR留萌本線\n",
            "JR石勝線\n",
            "JR石北本線\n",
            "JR釧網本線\n",
            "函館市電宝来・谷地頭線\n",
            "函館市電本線\n",
            "函館市電湯の川線\n",
            "札幌市南北線\n",
            "札幌市東西線\n",
            "札幌市東豊線\n",
            "札幌市電\n",
            "北海道新幹線\n"
          ]
        }
      ],
      "source": [
        "import requests\n",
        "\n",
        "url = \"http://express.heartrails.com/api/json\"\n",
        "\n",
        "param = {\"method\": \"getLines\", \"prefecture\": \"北海道\"}\n",
        "data = requests.get(url, param).json()\n",
        "print(\"路線名一覧:\")\n",
        "for i in data[\"response\"][\"line\"]:\n",
        "    print(i)\n",
        "\n"
      ]
    },
    {
      "cell_type": "markdown",
      "metadata": {
        "id": "oih-_eBgNTrF"
      },
      "source": [
        "\"駅名\"の検索については1行目の**\"路線名\"**を変更して実行します。"
      ]
    },
    {
      "cell_type": "code",
      "execution_count": 4,
      "metadata": {
        "colab": {
          "base_uri": "https://localhost:8080/"
        },
        "id": "FXl2IZhZM8Eq",
        "outputId": "eff04edf-cf47-4f16-b69b-6b758f5c57a0"
      },
      "outputs": [
        {
          "name": "stdout",
          "output_type": "stream",
          "text": [
            "駅名と経度・緯度:\n",
            "函館 140.726413 41.773709\n",
            "五稜郭 140.733539 41.803557\n",
            "桔梗 140.722952 41.846457\n",
            "大中山 140.71358 41.864641\n",
            "七飯 140.688556 41.886971\n",
            "新函館北斗 140.646525 41.9054\n",
            "仁山 140.635183 41.930011\n",
            "大沼 140.669347 41.971954\n",
            "大沼公園 140.669758 41.980958\n",
            "赤井川 140.642678 42.003267\n",
            "駒ヶ岳 140.610476 42.038809\n",
            "森 140.573846 42.108917\n",
            "石谷 140.506525 42.135519\n",
            "本石倉 140.471957 42.159668\n",
            "石倉 140.458436 42.17285\n",
            "落部 140.420755 42.187617\n",
            "野田生 140.37586 42.217104\n",
            "山越 140.326593 42.231172\n",
            "八雲 140.273342 42.253391\n",
            "山崎 140.2746 42.314635\n",
            "黒岩 140.288173 42.368296\n",
            "国縫 140.320885 42.439319\n",
            "中ノ沢 140.346077 42.477928\n",
            "長万部 140.37507 42.512477\n",
            "二股 140.320821 42.575869\n",
            "黒松内 140.305704 42.669608\n",
            "熱郛 140.375084 42.675653\n",
            "目名 140.465742 42.761432\n",
            "蘭越 140.52894 42.804542\n",
            "昆布 140.596107 42.797984\n",
            "ニセコ 140.684588 42.808746\n",
            "比羅夫 140.722615 42.84856\n",
            "倶知安 140.745471 42.90164\n",
            "小沢 140.677657 42.97185\n",
            "銀山 140.715321 43.040888\n",
            "然別 140.737211 43.12551\n",
            "仁木 140.770546 43.154091\n",
            "余市 140.794686 43.186558\n",
            "蘭島 140.854643 43.19651\n",
            "塩谷 140.924546 43.202406\n",
            "小樽 140.993653 43.197172\n",
            "南小樽 141.007883 43.186529\n",
            "小樽築港 141.029051 43.180752\n",
            "朝里 141.063923 43.176868\n",
            "銭函 141.159868 43.143403\n",
            "ほしみ 141.191402 43.13373\n",
            "星置 141.210856 43.132375\n",
            "稲穂 141.222919 43.128115\n",
            "手稲 141.243785 43.120238\n",
            "稲積公園 141.257113 43.112023\n",
            "発寒 141.277273 43.099819\n",
            "発寒中央 141.294497 43.089271\n",
            "琴似 141.307418 43.081599\n",
            "桑園 141.332036 43.070744\n",
            "札幌 141.350768 43.068612\n",
            "苗穂 141.377522 43.068574\n",
            "白石 141.413612 43.054715\n",
            "厚別 141.46369 43.045154\n",
            "森林公園 141.481332 43.056456\n",
            "大麻 141.496925 43.072382\n",
            "野幌 141.52984 43.092559\n",
            "高砂 141.540752 43.100084\n",
            "江別 141.55679 43.110189\n",
            "豊幌 141.62466 43.136446\n",
            "幌向 141.655839 43.151348\n",
            "上幌向 141.715391 43.18183\n",
            "岩見沢 141.759359 43.204201\n",
            "峰延 141.814673 43.264694\n",
            "光珠内 141.844655 43.292658\n",
            "美唄 141.862157 43.330751\n",
            "茶志内 141.87336 43.369842\n",
            "奈井江 141.889115 43.423718\n",
            "豊沼 141.901032 43.464224\n",
            "砂川 141.909642 43.493468\n",
            "滝川 141.900807 43.555278\n",
            "江部乙 141.935937 43.627564\n",
            "妹背牛 141.966591 43.690841\n",
            "深川 142.041642 43.721021\n",
            "納内 142.130072 43.732509\n",
            "近文 142.325327 43.789193\n",
            "旭川 142.357803 43.763492\n"
          ]
        }
      ],
      "source": [
        "param = {\"method\": \"getStations\", \"line\": \"JR函館本線\" }\n",
        "data = requests.get(url, param).json()\n",
        "print(\"駅名と経度・緯度:\")\n",
        "for i in data[\"response\"][\"station\"]:\n",
        "    print(i[\"name\"], i[\"x\"], i[\"y\"])"
      ]
    },
    {
      "cell_type": "markdown",
      "metadata": {
        "id": "5IQzhul41zCv"
      },
      "source": [
        "\n",
        "\n",
        "---\n",
        "\n"
      ]
    }
  ],
  "metadata": {
    "colab": {
      "authorship_tag": "ABX9TyNYlt8z5cY8iCFFzOc71bAA",
      "collapsed_sections": [],
      "include_colab_link": true,
      "name": "getrails.ipynb",
      "provenance": []
    },
    "kernelspec": {
      "display_name": "Python 3.10.4 64-bit",
      "language": "python",
      "name": "python3"
    },
    "language_info": {
      "codemirror_mode": {
        "name": "ipython",
        "version": 3
      },
      "file_extension": ".py",
      "mimetype": "text/x-python",
      "name": "python",
      "nbconvert_exporter": "python",
      "pygments_lexer": "ipython3",
      "version": "3.10.4"
    },
    "vscode": {
      "interpreter": {
        "hash": "3ad933181bd8a04b432d3370b9dc3b0662ad032c4dfaa4e4f1596c548f763858"
      }
    }
  },
  "nbformat": 4,
  "nbformat_minor": 0
}
